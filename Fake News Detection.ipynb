{
  "cells": [
    {
      "cell_type": "markdown",
      "source": [
        "# **--------------------  Task 1 ----------------------**"
      ],
      "metadata": {
        "id": "SFlPr6D9JV1R"
      },
      "id": "SFlPr6D9JV1R"
    },
    {
      "cell_type": "markdown",
      "source": [
        "## **Importing Necessary Libraries**\n"
      ],
      "metadata": {
        "id": "ggVTShq12eyW"
      },
      "id": "ggVTShq12eyW"
    },
    {
      "cell_type": "code",
      "execution_count": 1,
      "id": "9e8beca9-96b3-4b88-b378-38f29dc7b108",
      "metadata": {
        "colab": {
          "base_uri": "https://localhost:8080/"
        },
        "id": "9e8beca9-96b3-4b88-b378-38f29dc7b108",
        "outputId": "22619438-991b-4c71-eb82-cbff76fe9bbc"
      },
      "outputs": [
        {
          "output_type": "stream",
          "name": "stderr",
          "text": [
            "[nltk_data] Downloading package punkt to /root/nltk_data...\n",
            "[nltk_data]   Unzipping tokenizers/punkt.zip.\n",
            "[nltk_data] Downloading package stopwords to /root/nltk_data...\n",
            "[nltk_data]   Unzipping corpora/stopwords.zip.\n"
          ]
        }
      ],
      "source": [
        "# Importing Necessary Library including stop_words of English from corpus\n",
        "\n",
        "import pandas as pd\n",
        "import numpy as np\n",
        "import nltk\n",
        "nltk.download(\"punkt\")\n",
        "nltk.download(\"stopwords\")\n",
        "from nltk.corpus import words\n",
        "\n",
        "from nltk.corpus import stopwords\n",
        "from nltk.tokenize import word_tokenize, sent_tokenize\n",
        "from nltk.stem import WordNetLemmatizer, PorterStemmer\n",
        "import re\n",
        "stop_words = set(stopwords.words('english'))\n"
      ]
    },
    {
      "cell_type": "markdown",
      "source": [
        "## **Connecting to google drive**"
      ],
      "metadata": {
        "id": "Oce9KfUR230g"
      },
      "id": "Oce9KfUR230g"
    },
    {
      "cell_type": "code",
      "source": [
        "from google.colab import drive\n",
        "drive.mount('/content/drive')"
      ],
      "metadata": {
        "id": "0iCsF8Dmsc-w",
        "colab": {
          "base_uri": "https://localhost:8080/"
        },
        "outputId": "32fdf062-d137-4c12-96e8-4fac27b3c57c"
      },
      "id": "0iCsF8Dmsc-w",
      "execution_count": null,
      "outputs": [
        {
          "output_type": "stream",
          "name": "stdout",
          "text": [
            "Mounted at /content/drive\n"
          ]
        }
      ]
    },
    {
      "cell_type": "markdown",
      "source": [
        "## **Reading true and fake news from csv and merging them**"
      ],
      "metadata": {
        "id": "fdbvPSyp2-eB"
      },
      "id": "fdbvPSyp2-eB"
    },
    {
      "cell_type": "code",
      "execution_count": 2,
      "id": "0e0aae6c-a669-4d4d-a91e-f77ee09f3313",
      "metadata": {
        "id": "0e0aae6c-a669-4d4d-a91e-f77ee09f3313"
      },
      "outputs": [],
      "source": [
        "# Loading Data and merging two data along with adding label 0 and 1 to true and fake news\n",
        "\n",
        "true_news = pd.read_csv(\"True.csv\")\n",
        "fake_news = pd.read_csv(\"Fake.csv\")\n",
        "\n",
        "true_news['label'] = 0\n",
        "fake_news['label'] = 1\n",
        "news_merged = pd.concat([true_news, fake_news], ignore_index=True)\n"
      ]
    },
    {
      "cell_type": "markdown",
      "source": [
        "### **1. Checking if there are any null (na) values in the data**"
      ],
      "metadata": {
        "id": "OF3tkr3w3Hua"
      },
      "id": "OF3tkr3w3Hua"
    },
    {
      "cell_type": "code",
      "source": [
        "# check if any rows contains empty values\n",
        "\n",
        "news_merged.isnull().sum()"
      ],
      "metadata": {
        "colab": {
          "base_uri": "https://localhost:8080/",
          "height": 241
        },
        "id": "TdvqPaEIvGCU",
        "outputId": "57a26e46-584f-4749-bb5d-740cc07470e5"
      },
      "id": "TdvqPaEIvGCU",
      "execution_count": 3,
      "outputs": [
        {
          "output_type": "execute_result",
          "data": {
            "text/plain": [
              "title      0\n",
              "text       0\n",
              "subject    0\n",
              "date       0\n",
              "label      0\n",
              "dtype: int64"
            ],
            "text/html": [
              "<div>\n",
              "<style scoped>\n",
              "    .dataframe tbody tr th:only-of-type {\n",
              "        vertical-align: middle;\n",
              "    }\n",
              "\n",
              "    .dataframe tbody tr th {\n",
              "        vertical-align: top;\n",
              "    }\n",
              "\n",
              "    .dataframe thead th {\n",
              "        text-align: right;\n",
              "    }\n",
              "</style>\n",
              "<table border=\"1\" class=\"dataframe\">\n",
              "  <thead>\n",
              "    <tr style=\"text-align: right;\">\n",
              "      <th></th>\n",
              "      <th>0</th>\n",
              "    </tr>\n",
              "  </thead>\n",
              "  <tbody>\n",
              "    <tr>\n",
              "      <th>title</th>\n",
              "      <td>0</td>\n",
              "    </tr>\n",
              "    <tr>\n",
              "      <th>text</th>\n",
              "      <td>0</td>\n",
              "    </tr>\n",
              "    <tr>\n",
              "      <th>subject</th>\n",
              "      <td>0</td>\n",
              "    </tr>\n",
              "    <tr>\n",
              "      <th>date</th>\n",
              "      <td>0</td>\n",
              "    </tr>\n",
              "    <tr>\n",
              "      <th>label</th>\n",
              "      <td>0</td>\n",
              "    </tr>\n",
              "  </tbody>\n",
              "</table>\n",
              "</div><br><label><b>dtype:</b> int64</label>"
            ]
          },
          "metadata": {},
          "execution_count": 3
        }
      ]
    },
    {
      "cell_type": "markdown",
      "source": [
        "### **2. Shuffling the merged data and saving it as news.csv**"
      ],
      "metadata": {
        "id": "mfTLdV_C3i82"
      },
      "id": "mfTLdV_C3i82"
    },
    {
      "cell_type": "code",
      "execution_count": 4,
      "id": "d7c9ce45-6a7e-4593-83f8-9cc5163816c2",
      "metadata": {
        "id": "d7c9ce45-6a7e-4593-83f8-9cc5163816c2"
      },
      "outputs": [],
      "source": [
        "# Shuffling all the rows and resetting index so that data are random\n",
        "news = news_merged.sample(frac=1).reset_index(drop=True)\n",
        "news.to_csv(\"news.csv\")\n"
      ]
    },
    {
      "cell_type": "code",
      "execution_count": 5,
      "id": "Pzi_pM9gF4lq",
      "metadata": {
        "colab": {
          "base_uri": "https://localhost:8080/",
          "height": 241
        },
        "id": "Pzi_pM9gF4lq",
        "outputId": "59f2bbad-1a80-4706-96b3-9b427ac082a6"
      },
      "outputs": [
        {
          "output_type": "execute_result",
          "data": {
            "text/plain": [
              "0    WASHINGTON (Reuters) - No newly elected admini...\n",
              "1    By Jon RappoportCNN is already claiming the wh...\n",
              "2    Court documents show deceptive behavior by Don...\n",
              "3    KATHMANDU (Reuters) - A bus carrying passenger...\n",
              "4    Pastor Kenneth Sharpton Glasgow claims he s Re...\n",
              "Name: text, dtype: object"
            ],
            "text/html": [
              "<div>\n",
              "<style scoped>\n",
              "    .dataframe tbody tr th:only-of-type {\n",
              "        vertical-align: middle;\n",
              "    }\n",
              "\n",
              "    .dataframe tbody tr th {\n",
              "        vertical-align: top;\n",
              "    }\n",
              "\n",
              "    .dataframe thead th {\n",
              "        text-align: right;\n",
              "    }\n",
              "</style>\n",
              "<table border=\"1\" class=\"dataframe\">\n",
              "  <thead>\n",
              "    <tr style=\"text-align: right;\">\n",
              "      <th></th>\n",
              "      <th>text</th>\n",
              "    </tr>\n",
              "  </thead>\n",
              "  <tbody>\n",
              "    <tr>\n",
              "      <th>0</th>\n",
              "      <td>WASHINGTON (Reuters) - No newly elected admini...</td>\n",
              "    </tr>\n",
              "    <tr>\n",
              "      <th>1</th>\n",
              "      <td>By Jon RappoportCNN is already claiming the wh...</td>\n",
              "    </tr>\n",
              "    <tr>\n",
              "      <th>2</th>\n",
              "      <td>Court documents show deceptive behavior by Don...</td>\n",
              "    </tr>\n",
              "    <tr>\n",
              "      <th>3</th>\n",
              "      <td>KATHMANDU (Reuters) - A bus carrying passenger...</td>\n",
              "    </tr>\n",
              "    <tr>\n",
              "      <th>4</th>\n",
              "      <td>Pastor Kenneth Sharpton Glasgow claims he s Re...</td>\n",
              "    </tr>\n",
              "  </tbody>\n",
              "</table>\n",
              "</div><br><label><b>dtype:</b> object</label>"
            ]
          },
          "metadata": {},
          "execution_count": 5
        }
      ],
      "source": [
        "news.text.head() # checking head of the news"
      ]
    },
    {
      "cell_type": "code",
      "execution_count": 6,
      "id": "OjjnSmKCF7Y0",
      "metadata": {
        "colab": {
          "base_uri": "https://localhost:8080/"
        },
        "id": "OjjnSmKCF7Y0",
        "outputId": "67373388-3f23-4203-a54c-b0c404a63d07"
      },
      "outputs": [
        {
          "output_type": "stream",
          "name": "stdout",
          "text": [
            "<class 'pandas.core.frame.DataFrame'>\n",
            "RangeIndex: 44898 entries, 0 to 44897\n",
            "Data columns (total 5 columns):\n",
            " #   Column   Non-Null Count  Dtype \n",
            "---  ------   --------------  ----- \n",
            " 0   title    44898 non-null  object\n",
            " 1   text     44898 non-null  object\n",
            " 2   subject  44898 non-null  object\n",
            " 3   date     44898 non-null  object\n",
            " 4   label    44898 non-null  int64 \n",
            "dtypes: int64(1), object(4)\n",
            "memory usage: 1.7+ MB\n"
          ]
        }
      ],
      "source": [
        "news.info() # this also gives if any columns have null values and other descriptions"
      ]
    },
    {
      "cell_type": "code",
      "execution_count": 5,
      "id": "0SugdVL2JBCs",
      "metadata": {
        "id": "0SugdVL2JBCs"
      },
      "outputs": [],
      "source": [
        "# Regular expression pattern to capture newspaper name followed by \"(Reuters)\"\n",
        "''' This is one of the pattern seen in the news ie newspaper name along with (Reuters).\n",
        "    I made different columns (feature) along with replacement of the newspaper name with ''\n",
        "    if it only captures newspaper name. Sometimes (Reuters) can be seen in the middle of the news\n",
        "    which captures all the previous text, so implementing if number of characters are less than\n",
        "    100 for the newspaper name  '''\n",
        "\n",
        "pattern = r'^[1-9A-Za-z\\s]+\\(Reuters\\)'\n",
        "\n",
        "# Iterate over DataFrame rows\n",
        "for idx, row in news.iterrows():\n",
        "    match = re.match(pattern, row['text'])\n",
        "    if match:\n",
        "        newspaper = match.group()  # Capture the matched text\n",
        "        news.at[idx, 'newspaper'] = newspaper  # Store it in the new 'newspaper' column\n",
        "\n",
        "        # Check if the length of the match is less than 100 characters\n",
        "        if len(newspaper) < 100:\n",
        "            # Replace the matched text in 'text' column with a space\n",
        "            news.at[idx, 'text'] = row['text'].replace(newspaper, ' ')\n",
        "    else:\n",
        "        news.at[idx, 'newspaper'] = None\n"
      ]
    },
    {
      "cell_type": "code",
      "execution_count": 6,
      "id": "-dBG_D1WUn4-",
      "metadata": {
        "colab": {
          "base_uri": "https://localhost:8080/"
        },
        "id": "-dBG_D1WUn4-",
        "outputId": "a268e650-e99d-4edd-e6a1-344c7037438f"
      },
      "outputs": [
        {
          "output_type": "stream",
          "name": "stdout",
          "text": [
            "newspaper\n",
            "WASHINGTON (Reuters)       6389\n",
            "LONDON (Reuters)            705\n",
            "NEW YORK (Reuters)          695\n",
            "MOSCOW (Reuters)            623\n",
            "BERLIN (Reuters)            499\n",
            "                           ... \n",
            "San Diego (Reuters)           1\n",
            "ATLANTIC CITY (Reuters)       1\n",
            "DAMASCUS (Reuters)            1\n",
            "NMADRID (Reuters)             1\n",
            "MIDWAY ATOLL (Reuters)        1\n",
            "Name: count, Length: 305, dtype: int64\n",
            "27675\n"
          ]
        }
      ],
      "source": [
        "''' Checking the frequent news paper. Also there are text without known newspaper name\n",
        "    in that case they are assigned with None, so there are 27675 news without paper name\n",
        "'''\n",
        "print(news.newspaper.value_counts())\n",
        "print(news.newspaper.isna().sum())"
      ]
    },
    {
      "cell_type": "code",
      "source": [
        "''' I made a column with weight based on the frequent newspaper, which might be used in future if used,\n",
        "    and filled newspaper which doesn't have name to have the weight value to min\n",
        "'''\n",
        "news['weight'] = news.newspaper.map(news.newspaper.value_counts(normalize=True))\n",
        "news['weight'] = news['weight'].fillna(news.weight.min())"
      ],
      "metadata": {
        "id": "g2msehzDpbqa"
      },
      "id": "g2msehzDpbqa",
      "execution_count": 7,
      "outputs": []
    },
    {
      "cell_type": "code",
      "execution_count": 10,
      "id": "G4XcC4DaiH3k",
      "metadata": {
        "id": "G4XcC4DaiH3k",
        "colab": {
          "base_uri": "https://localhost:8080/",
          "height": 293
        },
        "outputId": "63a982c3-4631-45c7-a17f-42b996fd94df"
      },
      "outputs": [
        {
          "output_type": "execute_result",
          "data": {
            "text/plain": [
              "                                               title  \\\n",
              "0  No new U.S. administration is completely prepa...   \n",
              "1  Rappoport: ‘CNN Already Deflecting From the Su...   \n",
              "2   Court Documents Show How Trump Cooked The Boo...   \n",
              "3  Bus plunges into river in Nepal, killing at le...   \n",
              "4  WHY IS AL SHARPTON’S “Half-Brother” Registerin...   \n",
              "\n",
              "                                                text       subject  \\\n",
              "0    - No newly elected administration is totally...  politicsNews   \n",
              "1  By Jon RappoportCNN is already claiming the wh...   Middle-east   \n",
              "2  Court documents show deceptive behavior by Don...          News   \n",
              "3    - A bus carrying passengers returning from a...     worldnews   \n",
              "4  Pastor Kenneth Sharpton Glasgow claims he s Re...      politics   \n",
              "\n",
              "                 date  label             newspaper    weight  \n",
              "0  November 16, 2016       0  WASHINGTON (Reuters)  0.370957  \n",
              "1       April 4, 2017      1                  None  0.000058  \n",
              "2     August 13, 2016      1                  None  0.000058  \n",
              "3   October 28, 2017       0   KATHMANDU (Reuters)  0.000523  \n",
              "4         Dec 1, 2017      1                  None  0.000058  "
            ],
            "text/html": [
              "\n",
              "  <div id=\"df-c15c7b00-8552-4571-a7e6-b3cd7d18cede\" class=\"colab-df-container\">\n",
              "    <div>\n",
              "<style scoped>\n",
              "    .dataframe tbody tr th:only-of-type {\n",
              "        vertical-align: middle;\n",
              "    }\n",
              "\n",
              "    .dataframe tbody tr th {\n",
              "        vertical-align: top;\n",
              "    }\n",
              "\n",
              "    .dataframe thead th {\n",
              "        text-align: right;\n",
              "    }\n",
              "</style>\n",
              "<table border=\"1\" class=\"dataframe\">\n",
              "  <thead>\n",
              "    <tr style=\"text-align: right;\">\n",
              "      <th></th>\n",
              "      <th>title</th>\n",
              "      <th>text</th>\n",
              "      <th>subject</th>\n",
              "      <th>date</th>\n",
              "      <th>label</th>\n",
              "      <th>newspaper</th>\n",
              "      <th>weight</th>\n",
              "    </tr>\n",
              "  </thead>\n",
              "  <tbody>\n",
              "    <tr>\n",
              "      <th>0</th>\n",
              "      <td>No new U.S. administration is completely prepa...</td>\n",
              "      <td>- No newly elected administration is totally...</td>\n",
              "      <td>politicsNews</td>\n",
              "      <td>November 16, 2016</td>\n",
              "      <td>0</td>\n",
              "      <td>WASHINGTON (Reuters)</td>\n",
              "      <td>0.370957</td>\n",
              "    </tr>\n",
              "    <tr>\n",
              "      <th>1</th>\n",
              "      <td>Rappoport: ‘CNN Already Deflecting From the Su...</td>\n",
              "      <td>By Jon RappoportCNN is already claiming the wh...</td>\n",
              "      <td>Middle-east</td>\n",
              "      <td>April 4, 2017</td>\n",
              "      <td>1</td>\n",
              "      <td>None</td>\n",
              "      <td>0.000058</td>\n",
              "    </tr>\n",
              "    <tr>\n",
              "      <th>2</th>\n",
              "      <td>Court Documents Show How Trump Cooked The Boo...</td>\n",
              "      <td>Court documents show deceptive behavior by Don...</td>\n",
              "      <td>News</td>\n",
              "      <td>August 13, 2016</td>\n",
              "      <td>1</td>\n",
              "      <td>None</td>\n",
              "      <td>0.000058</td>\n",
              "    </tr>\n",
              "    <tr>\n",
              "      <th>3</th>\n",
              "      <td>Bus plunges into river in Nepal, killing at le...</td>\n",
              "      <td>- A bus carrying passengers returning from a...</td>\n",
              "      <td>worldnews</td>\n",
              "      <td>October 28, 2017</td>\n",
              "      <td>0</td>\n",
              "      <td>KATHMANDU (Reuters)</td>\n",
              "      <td>0.000523</td>\n",
              "    </tr>\n",
              "    <tr>\n",
              "      <th>4</th>\n",
              "      <td>WHY IS AL SHARPTON’S “Half-Brother” Registerin...</td>\n",
              "      <td>Pastor Kenneth Sharpton Glasgow claims he s Re...</td>\n",
              "      <td>politics</td>\n",
              "      <td>Dec 1, 2017</td>\n",
              "      <td>1</td>\n",
              "      <td>None</td>\n",
              "      <td>0.000058</td>\n",
              "    </tr>\n",
              "  </tbody>\n",
              "</table>\n",
              "</div>\n",
              "    <div class=\"colab-df-buttons\">\n",
              "\n",
              "  <div class=\"colab-df-container\">\n",
              "    <button class=\"colab-df-convert\" onclick=\"convertToInteractive('df-c15c7b00-8552-4571-a7e6-b3cd7d18cede')\"\n",
              "            title=\"Convert this dataframe to an interactive table.\"\n",
              "            style=\"display:none;\">\n",
              "\n",
              "  <svg xmlns=\"http://www.w3.org/2000/svg\" height=\"24px\" viewBox=\"0 -960 960 960\">\n",
              "    <path d=\"M120-120v-720h720v720H120Zm60-500h600v-160H180v160Zm220 220h160v-160H400v160Zm0 220h160v-160H400v160ZM180-400h160v-160H180v160Zm440 0h160v-160H620v160ZM180-180h160v-160H180v160Zm440 0h160v-160H620v160Z\"/>\n",
              "  </svg>\n",
              "    </button>\n",
              "\n",
              "  <style>\n",
              "    .colab-df-container {\n",
              "      display:flex;\n",
              "      gap: 12px;\n",
              "    }\n",
              "\n",
              "    .colab-df-convert {\n",
              "      background-color: #E8F0FE;\n",
              "      border: none;\n",
              "      border-radius: 50%;\n",
              "      cursor: pointer;\n",
              "      display: none;\n",
              "      fill: #1967D2;\n",
              "      height: 32px;\n",
              "      padding: 0 0 0 0;\n",
              "      width: 32px;\n",
              "    }\n",
              "\n",
              "    .colab-df-convert:hover {\n",
              "      background-color: #E2EBFA;\n",
              "      box-shadow: 0px 1px 2px rgba(60, 64, 67, 0.3), 0px 1px 3px 1px rgba(60, 64, 67, 0.15);\n",
              "      fill: #174EA6;\n",
              "    }\n",
              "\n",
              "    .colab-df-buttons div {\n",
              "      margin-bottom: 4px;\n",
              "    }\n",
              "\n",
              "    [theme=dark] .colab-df-convert {\n",
              "      background-color: #3B4455;\n",
              "      fill: #D2E3FC;\n",
              "    }\n",
              "\n",
              "    [theme=dark] .colab-df-convert:hover {\n",
              "      background-color: #434B5C;\n",
              "      box-shadow: 0px 1px 3px 1px rgba(0, 0, 0, 0.15);\n",
              "      filter: drop-shadow(0px 1px 2px rgba(0, 0, 0, 0.3));\n",
              "      fill: #FFFFFF;\n",
              "    }\n",
              "  </style>\n",
              "\n",
              "    <script>\n",
              "      const buttonEl =\n",
              "        document.querySelector('#df-c15c7b00-8552-4571-a7e6-b3cd7d18cede button.colab-df-convert');\n",
              "      buttonEl.style.display =\n",
              "        google.colab.kernel.accessAllowed ? 'block' : 'none';\n",
              "\n",
              "      async function convertToInteractive(key) {\n",
              "        const element = document.querySelector('#df-c15c7b00-8552-4571-a7e6-b3cd7d18cede');\n",
              "        const dataTable =\n",
              "          await google.colab.kernel.invokeFunction('convertToInteractive',\n",
              "                                                    [key], {});\n",
              "        if (!dataTable) return;\n",
              "\n",
              "        const docLinkHtml = 'Like what you see? Visit the ' +\n",
              "          '<a target=\"_blank\" href=https://colab.research.google.com/notebooks/data_table.ipynb>data table notebook</a>'\n",
              "          + ' to learn more about interactive tables.';\n",
              "        element.innerHTML = '';\n",
              "        dataTable['output_type'] = 'display_data';\n",
              "        await google.colab.output.renderOutput(dataTable, element);\n",
              "        const docLink = document.createElement('div');\n",
              "        docLink.innerHTML = docLinkHtml;\n",
              "        element.appendChild(docLink);\n",
              "      }\n",
              "    </script>\n",
              "  </div>\n",
              "\n",
              "\n",
              "<div id=\"df-5b55b7a0-df88-441f-820a-d8c86b64d5c9\">\n",
              "  <button class=\"colab-df-quickchart\" onclick=\"quickchart('df-5b55b7a0-df88-441f-820a-d8c86b64d5c9')\"\n",
              "            title=\"Suggest charts\"\n",
              "            style=\"display:none;\">\n",
              "\n",
              "<svg xmlns=\"http://www.w3.org/2000/svg\" height=\"24px\"viewBox=\"0 0 24 24\"\n",
              "     width=\"24px\">\n",
              "    <g>\n",
              "        <path d=\"M19 3H5c-1.1 0-2 .9-2 2v14c0 1.1.9 2 2 2h14c1.1 0 2-.9 2-2V5c0-1.1-.9-2-2-2zM9 17H7v-7h2v7zm4 0h-2V7h2v10zm4 0h-2v-4h2v4z\"/>\n",
              "    </g>\n",
              "</svg>\n",
              "  </button>\n",
              "\n",
              "<style>\n",
              "  .colab-df-quickchart {\n",
              "      --bg-color: #E8F0FE;\n",
              "      --fill-color: #1967D2;\n",
              "      --hover-bg-color: #E2EBFA;\n",
              "      --hover-fill-color: #174EA6;\n",
              "      --disabled-fill-color: #AAA;\n",
              "      --disabled-bg-color: #DDD;\n",
              "  }\n",
              "\n",
              "  [theme=dark] .colab-df-quickchart {\n",
              "      --bg-color: #3B4455;\n",
              "      --fill-color: #D2E3FC;\n",
              "      --hover-bg-color: #434B5C;\n",
              "      --hover-fill-color: #FFFFFF;\n",
              "      --disabled-bg-color: #3B4455;\n",
              "      --disabled-fill-color: #666;\n",
              "  }\n",
              "\n",
              "  .colab-df-quickchart {\n",
              "    background-color: var(--bg-color);\n",
              "    border: none;\n",
              "    border-radius: 50%;\n",
              "    cursor: pointer;\n",
              "    display: none;\n",
              "    fill: var(--fill-color);\n",
              "    height: 32px;\n",
              "    padding: 0;\n",
              "    width: 32px;\n",
              "  }\n",
              "\n",
              "  .colab-df-quickchart:hover {\n",
              "    background-color: var(--hover-bg-color);\n",
              "    box-shadow: 0 1px 2px rgba(60, 64, 67, 0.3), 0 1px 3px 1px rgba(60, 64, 67, 0.15);\n",
              "    fill: var(--button-hover-fill-color);\n",
              "  }\n",
              "\n",
              "  .colab-df-quickchart-complete:disabled,\n",
              "  .colab-df-quickchart-complete:disabled:hover {\n",
              "    background-color: var(--disabled-bg-color);\n",
              "    fill: var(--disabled-fill-color);\n",
              "    box-shadow: none;\n",
              "  }\n",
              "\n",
              "  .colab-df-spinner {\n",
              "    border: 2px solid var(--fill-color);\n",
              "    border-color: transparent;\n",
              "    border-bottom-color: var(--fill-color);\n",
              "    animation:\n",
              "      spin 1s steps(1) infinite;\n",
              "  }\n",
              "\n",
              "  @keyframes spin {\n",
              "    0% {\n",
              "      border-color: transparent;\n",
              "      border-bottom-color: var(--fill-color);\n",
              "      border-left-color: var(--fill-color);\n",
              "    }\n",
              "    20% {\n",
              "      border-color: transparent;\n",
              "      border-left-color: var(--fill-color);\n",
              "      border-top-color: var(--fill-color);\n",
              "    }\n",
              "    30% {\n",
              "      border-color: transparent;\n",
              "      border-left-color: var(--fill-color);\n",
              "      border-top-color: var(--fill-color);\n",
              "      border-right-color: var(--fill-color);\n",
              "    }\n",
              "    40% {\n",
              "      border-color: transparent;\n",
              "      border-right-color: var(--fill-color);\n",
              "      border-top-color: var(--fill-color);\n",
              "    }\n",
              "    60% {\n",
              "      border-color: transparent;\n",
              "      border-right-color: var(--fill-color);\n",
              "    }\n",
              "    80% {\n",
              "      border-color: transparent;\n",
              "      border-right-color: var(--fill-color);\n",
              "      border-bottom-color: var(--fill-color);\n",
              "    }\n",
              "    90% {\n",
              "      border-color: transparent;\n",
              "      border-bottom-color: var(--fill-color);\n",
              "    }\n",
              "  }\n",
              "</style>\n",
              "\n",
              "  <script>\n",
              "    async function quickchart(key) {\n",
              "      const quickchartButtonEl =\n",
              "        document.querySelector('#' + key + ' button');\n",
              "      quickchartButtonEl.disabled = true;  // To prevent multiple clicks.\n",
              "      quickchartButtonEl.classList.add('colab-df-spinner');\n",
              "      try {\n",
              "        const charts = await google.colab.kernel.invokeFunction(\n",
              "            'suggestCharts', [key], {});\n",
              "      } catch (error) {\n",
              "        console.error('Error during call to suggestCharts:', error);\n",
              "      }\n",
              "      quickchartButtonEl.classList.remove('colab-df-spinner');\n",
              "      quickchartButtonEl.classList.add('colab-df-quickchart-complete');\n",
              "    }\n",
              "    (() => {\n",
              "      let quickchartButtonEl =\n",
              "        document.querySelector('#df-5b55b7a0-df88-441f-820a-d8c86b64d5c9 button');\n",
              "      quickchartButtonEl.style.display =\n",
              "        google.colab.kernel.accessAllowed ? 'block' : 'none';\n",
              "    })();\n",
              "  </script>\n",
              "</div>\n",
              "\n",
              "    </div>\n",
              "  </div>\n"
            ],
            "application/vnd.google.colaboratory.intrinsic+json": {
              "type": "dataframe",
              "variable_name": "news",
              "summary": "{\n  \"name\": \"news\",\n  \"rows\": 44898,\n  \"fields\": [\n    {\n      \"column\": \"title\",\n      \"properties\": {\n        \"dtype\": \"string\",\n        \"num_unique_values\": 38729,\n        \"samples\": [\n          \"Trump could easily erase much of Obama's foreign policy legacy\",\n          \"STRANGER THAN FICTION: Why Is Foundation of Vegas Shooting Survivor Sponsored By DHS Linked Firm?\",\n          \" BREAKING: Trump Tax Documents Leaked And They\\u2019re STUNNINGLY Incriminating\"\n        ],\n        \"semantic_type\": \"\",\n        \"description\": \"\"\n      }\n    },\n    {\n      \"column\": \"text\",\n      \"properties\": {\n        \"dtype\": \"string\",\n        \"num_unique_values\": 38646,\n        \"samples\": [\n          \"  - Director of National Intelligence James Clapper announced his resignation on Thursday and said it \\u201cfelt pretty good\\u201d to step down, ending a six-year tenure as the top U.S. spy that included a sometimes rocky relationship with Congress. Clapper, 75, a retired three-star U.S. Air Force general, will stay on until Democratic President Barack Obama leaves office in January. He has said for months he intended to leave when Obama departed and his replacement will be chosen by Republican President-elect Donald Trump. Clapper\\u2019s term was marked by efforts to grapple with the re-emergence of an aggressive Russia, extremist attacks and growing cyber threats, as well as misleading a Senate committee about federal policy on collecting data on millions of Americans. His formal letter of resignation was issued in response to a White House request that all Obama administration political appointees submit resignations effective at noon on Jan. 20, a spokesperson for the Office of the Director of National Intelligence said. Clapper appeared before the U.S. House of Representatives intelligence committee hearing on Thursday and Representative Adam Schiff, the committee\\u2019s top-ranking Democrat, lightheartedly said he hoped Clapper would stay in the job for four more years. \\u201cI submitted my letter of resignation last night, which felt pretty good,\\u201d Clapper responded. \\u201cI\\u2019ve got 64 days left.\\u201d In March 2013 Clapper found himself at the center of controversy after testifying before the Senate Select Committee on Intelligence, telling Senator Ron Wyden that the U.S. government did \\u201cnot wittingly\\u201d collect data on millions or hundreds of millions of Americans. His statement was disproved months later when former National Security Agency contractor Edward Snowden exposed classified details of U.S. surveillance programs, including one that collected domestic U.S. phone call data in bulk. Clapper later said his response to the Senate was the \\u201cleast untruthful\\u201d one he could provide. On Thursday, Wyden said senior intelligence officials \\u201cengaged in a deception spree regarding mass surveillance\\u201d during Clapper\\u2019s tenure. Others praised Clapper with Senate Intelligence Chairman Richard Burr, a North Carolina Republican, saying he had \\u201cserved our country honorably and with distinction in every capacity requested of him.\\u201d Before last week\\u2019s presidential election Clapper\\u2019s office issued a pre-election declaration accusing Russia of hacking U.S. political operatives and individuals as part of a scheme to \\u201cinterfere with the U.S. election process.\\u201d On Thursday he declined to comment on whether the Russians had shared any of the hacked information with unnamed Americans in the past 18 months. Clapper said he did not expect \\u201ca significant change in Russian behavior\\u201d when asked about Russia\\u2019s alleged involvement in hacking. He added that Russia was planning to expand its presence at a naval base it maintains in Tartous, Syria.     The leading candidates to replace Clapper in the Trump administration include Robert Cardillo, director of the National Geospatial-Intelligence Agency and a previous deputy director of national intelligence under Clapper, according to national security officials and people close to Trump\\u2019s transition team. Retired Lieutenant General Ronald Burgess, who headed the Defense Intelligence Agency during Obama\\u2019s first term, and former Republican Representative Pete Hoekstra, who chaired the House Intelligence Committee, also may be in contention, sources said. The director of national intelligence oversees 17 U.S. intelligence agencies and serves as the president\\u2019s principal intelligence adviser and briefer. As deputy director of national intelligence, Cardillo had served as Obama\\u2019s \\u201calternate\\u201d principal briefer, an official said. Clapper\\u2019s service in military and intelligence spanned six decades, beginning in the 1960s in the U.S. Marine Corps followed by enlistment as a U.S. Air Force officer. \",\n          \"James O Keefe has been at the forefront of new media since he outed ACORN posing as a pimp Who can forget that! He s exposed the left time and time again His latest video exposed liberal organizers suggesting violent ways to disrupt the inauguration of President Trump.It seems O Keefe recognizes that we are at war with the press more than anyone on the left. The blatant lies and complete distortions of just about anything President Trump says are happening 24/7 on CNN, MSNBC, ABC, NBC and CBS. It s time to expose the REAL fake news Thank you James O Keefe!Here s O Keefe s first release where Joe Sterling, CNN s News Desk Editor for  The Wire  telling one of O Keefe s undercover reporters that  climate change  is settled science and,  There is no debate. I mean, I m a little biased Joe Sterling, once News Desk Editor @CNN admits he has a clear bias in favor of @POTUS44. Doesn't #CNN claim to be \\\"most trusted?\\\" #CNNLeaks pic.twitter.com/VhxeJCK1lL  James O'Keefe (@JamesOKeefeIII) February 23, 2017The second release in a long list of undercover CNN tapes, PROVES Trump was correct when he talked about the polls being rigged. We all knew that President Trump was correct when he told Americans,  Don t believe the polls  that were incorrectly pointing to a huge Hillary win. We all know how that story ends. Trump beat Hillary in a landslide, and beat her in states that polls like CNN s, told us he had no chance of winning. Listen to CNN try to reason with O Keefe s undercover reporter about why they refuse to update their polls after new information emerges that could be a game changer in how the public perceives it:When questioned about their tactics and why they choose not to use new data to update one of their polls, CNN s Executive Editor Arthur Brice responded,  I agree. I think its dishonest to use outdated information if new information shows something that is in variance with something you re reporting. It s just dishonest. In this bit we found @CNN's Executive Editor @ArthurBrice talks about using \\\"dishonest and outdated information\\\" in CNN's polls. #CNNLeaks pic.twitter.com/j2L2FrqYwY  James O'Keefe (@JamesOKeefeIII) February 23, 2017\",\n          \"SYDNEY/WASHINGTON (Reuters) - U.S. officials interviewing refugees held in an Australian-run offshore detention center left the facility abruptly, three detainees told Reuters on Saturday, throwing further doubt over a plan to resettle many of the detainees in America.  U.S. officials halted screening interviews and departed the Pacific island of Nauru on Friday, two weeks short of their scheduled timetable and a day after Washington said the United States had reached its annual refugee intake cap.  \\u201cU.S. (officials) were scheduled to be on Nauru until July 26 but they left on Friday,\\u201d one refugee told Reuters, requesting anonymity as he did not want to jeopardize his application for U.S. resettlement.  In the United States, a senior member of the union that represents refugee officers at U.S. Citizenship and Immigration Services (USCIS), a Department of Homeland Security agency, told Reuters his own trip to Nauru was not going forward as scheduled.  Jason Marks, chief steward of the American Federation of Government Employees Local 1924, told Reuters his trip has now been pushed back and it was unclear whether it will actually happen. The USCIS said on Saturday that the program would continue but offered no details.  \\u201cWe do not discuss the exact dates of USCIS\\u2019 circuit rides to adjudicate refugees\\u2019 applications. However, we are planning return trips,\\u201d the agency said in a statement.\\u00a0  \\u201cIt is not uncommon for the dates of tentatively planned refugee circuit ride trips worldwide to change due to a wide variety of factors.\\u201d The Australian Immigration Department declined to comment on the whereabouts of the U.S. officials or the future of a refugee swap agreement between Australia and the United States that President Donald Trump earlier this year branded a \\u201cdumb deal\\u201d. Australian Foreign Minister Julie Bishop said on Sunday the deal was progressing as expected, reiterating the government had assurances from the Trump administration. \\u201cThe quota will roll over again on October 1 as I said, and I expect that the United States will adhere to this agreement, as the president promised,\\u201d she told the Australian Broadcasting Corp.  An indefinite postponement of the deal would have significant repercussions for Australia\\u2019s pledge to close a second detention center on Papua New Guinea\\u2019s Manus island on Oct 31. Only 70 refugees, less than 10 percent of the total detainees held in the camp, have completed U.S. processing. Bishop said she did not believe it was the case only 10 percent of refugees had been processed. \\u201cThe U.S. deal looks more and more doubtful,\\u201d Ian Rintoul from the Refugee Action Coalition said. \\u201cThe U.S. deal was never the solution the Australian government pretended it to be.\\u201d Former U.S. President Barack Obama agreed a deal with Australia late last year to offer refuge to up to 1,250 asylum seekers, a deal the Trump administration said it would only honor to maintain a strong relationship with Australia and then only on condition that refugees satisfied strict checks. In exchange, Australia has pledged to take Central American refugees from a center in Costa Rica, where the United States has taken in a larger number of people in recent years. The swap is designed, in part, to help Australia close both Manus and Nauru, which are expensive to run and have been widely criticized by the United Nations and others over treatment of detainees. The U.S. government confirmed on Thursday that its refugee intake cap of 50,000 people had been reached with the new intake year not due to begin until Oct. 1. Exemptions could be made for those who have a \\u201ccredible claim to a bona fide relationship with a person or entity in the United States,\\u201d following a decision from the U.S. Supreme Court last month reviving elements of Trump\\u2019s travel ban while it considers the legality of the order. Given the risky boat journey the refugees in Manus and Nauru undertook to reach Australia, it is unlikely many of them have strong family ties to the United States, experts said. The majority of the detainees interviewed on both Manus and Nauru by U.S. officials in April are from Sudan, Somalia and Afghanistan. Australia\\u2019s hardline immigration policy requires asylum seekers intercepted at sea trying to reach Australia to be sent for processing to camps at Manus and on Nauru. They are told they will never be settled in Australia. Trump\\u2019s resistance to the refugee deal had strained relations with a key Asia Pacific ally, triggering a fractious phone call with Australian Prime Minister Malcolm Turnbull earlier this year. Trump\\u2019s concession and a series of high-level visits by U.S. dignities have since help mend connections between the two countries.  Australia has already offered detainees up to $25,000 to voluntarily return to their home countries, an offer few have taken up. \"\n        ],\n        \"semantic_type\": \"\",\n        \"description\": \"\"\n      }\n    },\n    {\n      \"column\": \"subject\",\n      \"properties\": {\n        \"dtype\": \"category\",\n        \"num_unique_values\": 8,\n        \"samples\": [\n          \"Middle-east\",\n          \"Government News\",\n          \"politicsNews\"\n        ],\n        \"semantic_type\": \"\",\n        \"description\": \"\"\n      }\n    },\n    {\n      \"column\": \"date\",\n      \"properties\": {\n        \"dtype\": \"category\",\n        \"num_unique_values\": 2397,\n        \"samples\": [\n          \"February 9, 2016 \",\n          \"April 10, 2016\",\n          \"July 20, 2017\"\n        ],\n        \"semantic_type\": \"\",\n        \"description\": \"\"\n      }\n    },\n    {\n      \"column\": \"label\",\n      \"properties\": {\n        \"dtype\": \"number\",\n        \"std\": 0,\n        \"min\": 0,\n        \"max\": 1,\n        \"num_unique_values\": 2,\n        \"samples\": [\n          1,\n          0\n        ],\n        \"semantic_type\": \"\",\n        \"description\": \"\"\n      }\n    },\n    {\n      \"column\": \"newspaper\",\n      \"properties\": {\n        \"dtype\": \"category\",\n        \"num_unique_values\": 305,\n        \"samples\": [\n          \"BRAS LIA (Reuters)\",\n          \"LJUBLJANA (Reuters)\"\n        ],\n        \"semantic_type\": \"\",\n        \"description\": \"\"\n      }\n    },\n    {\n      \"column\": \"weight\",\n      \"properties\": {\n        \"dtype\": \"number\",\n        \"std\": 0.12843764112578612,\n        \"min\": 5.806189397898159e-05,\n        \"max\": 0.37095744063171343,\n        \"num_unique_values\": 84,\n        \"samples\": [\n          0.002148290077222319,\n          0.37095744063171343\n        ],\n        \"semantic_type\": \"\",\n        \"description\": \"\"\n      }\n    }\n  ]\n}"
            }
          },
          "metadata": {},
          "execution_count": 10
        }
      ],
      "source": [
        "news.head()"
      ]
    },
    {
      "cell_type": "markdown",
      "source": [
        "## **Text Preprocessing**"
      ],
      "metadata": {
        "id": "upTMN41i5adn"
      },
      "id": "upTMN41i5adn"
    },
    {
      "cell_type": "code",
      "source": [
        "''' Though preprocessing has already started, but main text are preprocessed in this function'''\n",
        "\n",
        "def preprocess_text(texts):\n",
        "\n",
        "    # remove punctuations\n",
        "    texts = re.sub(r'[^\\w\\s]', ' ', texts)\n",
        "\n",
        "    #remove special characters\n",
        "    texts = re.sub(r'[^a-zA-Z0-9\\s]', ' ', texts)\n",
        "\n",
        "    #remove digits\n",
        "    texts = re.sub(r'\\d', ' ', texts)\n",
        "\n",
        "    #remove if there are any alphabet, symbol or anything repeated more than 2 times\n",
        "    texts = re.sub(r'\\b\\w*(\\w)\\1{2,}\\w*\\b',' ', texts)\n",
        "\n",
        "    # lower case\n",
        "    texts = texts.lower()\n",
        "\n",
        "    #remove all stopwords\n",
        "    texts = ' '.join([word for word in texts.split() if word not in stop_words])\n",
        "\n",
        "    # Remove extra whitespace\n",
        "    texts = re.sub(r'\\s+', ' ', texts).strip()\n",
        "\n",
        "    return texts\n"
      ],
      "metadata": {
        "id": "m5FrIuF4p6mv"
      },
      "id": "m5FrIuF4p6mv",
      "execution_count": 8,
      "outputs": []
    },
    {
      "cell_type": "code",
      "source": [
        "# Preprocessing title only, it was used with ! sign representing important characteristics in the\n",
        "# title\n",
        "def preprocess_title(title):\n",
        "\n",
        "    title = re.sub(r'\\d', ' ', title) # remove all the digits\n",
        "    title = re.sub(r'[^\\w\\s]', ' ', title) # remove special characters\n",
        "    title = re.sub(r'\\b\\w*(\\w)\\1{2,}\\w*\\b',' ', title)\n",
        "    ''' remove any word which has more than 2 consecutive repeated letters'''\n",
        "\n",
        "    title = re.sub(r'\\s+', ' ', title).strip() # remove extra white space\n",
        "\n",
        "    title = ' '.join([word for word in title.split() if word not in stop_words]) # remove stop words\n",
        "    title = title.lower() # convert all texts to lower case\n",
        "    return title"
      ],
      "metadata": {
        "id": "sGt7JS0QNxCA"
      },
      "id": "sGt7JS0QNxCA",
      "execution_count": 9,
      "outputs": []
    },
    {
      "cell_type": "code",
      "source": [
        "# Preprocessing the main news\n",
        "processed_text = news.text.apply(preprocess_text)"
      ],
      "metadata": {
        "id": "5D4Mn82ksI6t"
      },
      "id": "5D4Mn82ksI6t",
      "execution_count": 10,
      "outputs": []
    },
    {
      "cell_type": "code",
      "source": [
        "# Preprocessing the title\n",
        "processed_title = news.title.apply(preprocess_title)"
      ],
      "metadata": {
        "id": "XVnM22F4M374"
      },
      "id": "XVnM22F4M374",
      "execution_count": 11,
      "outputs": []
    },
    {
      "cell_type": "code",
      "source": [
        "# Making different columns for processed text, and title so that main text doesn't change and saving the file\n",
        "news['processed_text'] = processed_text\n",
        "news['processed_title'] = processed_title\n",
        "news.to_csv(\"processed_news.csv\")"
      ],
      "metadata": {
        "id": "pVXc_YYBRpVv"
      },
      "id": "pVXc_YYBRpVv",
      "execution_count": 12,
      "outputs": []
    },
    {
      "cell_type": "code",
      "source": [
        "'''Since colab provided 12gb ram for execution, it started to crash due to memory overflow\n",
        "so i saved the variable outputs like processed text, tfidf matrix for later use and execution\n",
        "if required'''\n",
        "\n",
        "import pickle\n",
        "\n",
        "with open('processed_text.pkl', 'wb') as f:\n",
        "    pickle.dump(processed_text, f)\n",
        "\n",
        "with open('processed_title.pkl', 'wb') as f:\n",
        "    pickle.dump(processed_title, f)"
      ],
      "metadata": {
        "id": "zH5hGXWV_Av3"
      },
      "id": "zH5hGXWV_Av3",
      "execution_count": 13,
      "outputs": []
    },
    {
      "cell_type": "code",
      "source": [
        "processed_text.head()"
      ],
      "metadata": {
        "id": "_jYSkGCXsMWv",
        "colab": {
          "base_uri": "https://localhost:8080/",
          "height": 241
        },
        "outputId": "88b2f076-f885-4776-cf2e-ad33549561e0"
      },
      "id": "_jYSkGCXsMWv",
      "execution_count": 14,
      "outputs": [
        {
          "output_type": "execute_result",
          "data": {
            "text/plain": [
              "0    daily show needs go fox news often jon stewart...\n",
              "1    democrat hillary clinton percentage point lead...\n",
              "2    hillary clinton campaign confronting emerging ...\n",
              "3    compromise ability objective bill hillary clin...\n",
              "4    amnesty international urged egyptian authoriti...\n",
              "Name: text, dtype: object"
            ],
            "text/html": [
              "<div>\n",
              "<style scoped>\n",
              "    .dataframe tbody tr th:only-of-type {\n",
              "        vertical-align: middle;\n",
              "    }\n",
              "\n",
              "    .dataframe tbody tr th {\n",
              "        vertical-align: top;\n",
              "    }\n",
              "\n",
              "    .dataframe thead th {\n",
              "        text-align: right;\n",
              "    }\n",
              "</style>\n",
              "<table border=\"1\" class=\"dataframe\">\n",
              "  <thead>\n",
              "    <tr style=\"text-align: right;\">\n",
              "      <th></th>\n",
              "      <th>text</th>\n",
              "    </tr>\n",
              "  </thead>\n",
              "  <tbody>\n",
              "    <tr>\n",
              "      <th>0</th>\n",
              "      <td>daily show needs go fox news often jon stewart...</td>\n",
              "    </tr>\n",
              "    <tr>\n",
              "      <th>1</th>\n",
              "      <td>democrat hillary clinton percentage point lead...</td>\n",
              "    </tr>\n",
              "    <tr>\n",
              "      <th>2</th>\n",
              "      <td>hillary clinton campaign confronting emerging ...</td>\n",
              "    </tr>\n",
              "    <tr>\n",
              "      <th>3</th>\n",
              "      <td>compromise ability objective bill hillary clin...</td>\n",
              "    </tr>\n",
              "    <tr>\n",
              "      <th>4</th>\n",
              "      <td>amnesty international urged egyptian authoriti...</td>\n",
              "    </tr>\n",
              "  </tbody>\n",
              "</table>\n",
              "</div><br><label><b>dtype:</b> object</label>"
            ]
          },
          "metadata": {},
          "execution_count": 14
        }
      ]
    },
    {
      "cell_type": "code",
      "source": [
        "# tokenize the word for further processing\n",
        "\n",
        "word_tokenized = processed_text.apply(word_tokenize)\n",
        "word_tokenized.head()\n"
      ],
      "metadata": {
        "colab": {
          "base_uri": "https://localhost:8080/",
          "height": 241
        },
        "id": "a58Pc5ugQQsF",
        "outputId": "014a0412-f520-43b3-8686-03cab894e8d0"
      },
      "id": "a58Pc5ugQQsF",
      "execution_count": 19,
      "outputs": [
        {
          "output_type": "execute_result",
          "data": {
            "text/plain": [
              "0    [newly, elected, administration, totally, read...\n",
              "1    [jon, rappoportcnn, already, claiming, whole, ...\n",
              "2    [court, documents, show, deceptive, behavior, ...\n",
              "3    [bus, carrying, passengers, returning, hindu, ...\n",
              "4    [pastor, kenneth, sharpton, glasgow, claims, r...\n",
              "Name: text, dtype: object"
            ],
            "text/html": [
              "<div>\n",
              "<style scoped>\n",
              "    .dataframe tbody tr th:only-of-type {\n",
              "        vertical-align: middle;\n",
              "    }\n",
              "\n",
              "    .dataframe tbody tr th {\n",
              "        vertical-align: top;\n",
              "    }\n",
              "\n",
              "    .dataframe thead th {\n",
              "        text-align: right;\n",
              "    }\n",
              "</style>\n",
              "<table border=\"1\" class=\"dataframe\">\n",
              "  <thead>\n",
              "    <tr style=\"text-align: right;\">\n",
              "      <th></th>\n",
              "      <th>text</th>\n",
              "    </tr>\n",
              "  </thead>\n",
              "  <tbody>\n",
              "    <tr>\n",
              "      <th>0</th>\n",
              "      <td>[newly, elected, administration, totally, read...</td>\n",
              "    </tr>\n",
              "    <tr>\n",
              "      <th>1</th>\n",
              "      <td>[jon, rappoportcnn, already, claiming, whole, ...</td>\n",
              "    </tr>\n",
              "    <tr>\n",
              "      <th>2</th>\n",
              "      <td>[court, documents, show, deceptive, behavior, ...</td>\n",
              "    </tr>\n",
              "    <tr>\n",
              "      <th>3</th>\n",
              "      <td>[bus, carrying, passengers, returning, hindu, ...</td>\n",
              "    </tr>\n",
              "    <tr>\n",
              "      <th>4</th>\n",
              "      <td>[pastor, kenneth, sharpton, glasgow, claims, r...</td>\n",
              "    </tr>\n",
              "  </tbody>\n",
              "</table>\n",
              "</div><br><label><b>dtype:</b> object</label>"
            ]
          },
          "metadata": {},
          "execution_count": 19
        }
      ]
    },
    {
      "cell_type": "code",
      "source": [
        "with open('word_tokenized.pkl', 'wb') as f:\n",
        "    pickle.dump(word_tokenized, f)"
      ],
      "metadata": {
        "id": "p9e617tK_cIC"
      },
      "id": "p9e617tK_cIC",
      "execution_count": 20,
      "outputs": []
    },
    {
      "cell_type": "markdown",
      "source": [
        "# **--------------------  Task 2 ----------------------**"
      ],
      "metadata": {
        "id": "4gwHnxDuJl-E"
      },
      "id": "4gwHnxDuJl-E"
    },
    {
      "cell_type": "code",
      "source": [
        "# with open('tfidf_matrix.pkl', 'wb') as f:\n",
        "#     pickle.dump(tfidf_matrix, f)"
      ],
      "metadata": {
        "id": "H-FnTcG2AtUq"
      },
      "id": "H-FnTcG2AtUq",
      "execution_count": 22,
      "outputs": []
    },
    {
      "cell_type": "code",
      "source": [
        "# recovering the variable after it started crashing\n",
        "import pickle\n",
        "\n",
        "# filenames = ['processed_text.pkl', 'word_tokenized.pkl','tfidf_matrix.pkl']\n",
        "\n",
        "# # Dictionary to hold loaded variables\n",
        "# loaded_data = {}\n",
        "\n",
        "# # Load each file and store in the dictionary\n",
        "# for filename in filenames:\n",
        "#     with open(filename, 'rb') as f:\n",
        "#         variable_name = filename.split('.')[0]  # Get the variable name from the filename\n",
        "#         loaded_data[variable_name] = pickle.load(f)\n",
        "\n",
        "# # Access the loaded variables\n",
        "# # word_tokenized = loaded_data['word_tokenized']\n",
        "# # processed_text = loaded_data['processed_text']\n",
        "# # tfidf_matrix = loaded_data['tfidf_matrix']"
      ],
      "metadata": {
        "id": "MP2WUGQUBYKf"
      },
      "id": "MP2WUGQUBYKf",
      "execution_count": 23,
      "outputs": []
    },
    {
      "cell_type": "code",
      "source": [
        "# test model on naive bayes with held out test set\n",
        "from sklearn.metrics import accuracy_score, precision_score, recall_score, f1_score, roc_auc_score, roc_curve\n",
        "import matplotlib.pyplot as plt\n",
        "\n",
        "# plot aur roc curve\n",
        "def test_model(model, X_test, y_test):\n",
        "\n",
        "    y_pred_model = model.predict(X_test)\n",
        "\n",
        "    accuracy = accuracy_score(y_test, y_pred_model)\n",
        "    precision = precision_score(y_test, y_pred_model)\n",
        "    recall = recall_score(y_test, y_pred_model)\n",
        "    f1 = f1_score(y_test, y_pred_model)\n",
        "    roc_auc = roc_auc_score(y_test, y_pred_model)\n",
        "\n",
        "    print(f'Accuracy: {accuracy:.2f}')\n",
        "    print(f'Precision: {precision:.2f}')\n",
        "    print(f'Recall: {recall:.2f}')\n",
        "    print(f'F1-score: {f1:.2f}')\n",
        "    print(f'ROC AUC: {roc_auc:.2f}')\n",
        "\n",
        "    # plot\n",
        "    fpr, tpr, thresholds = roc_curve(y_test, y_pred_model)\n",
        "\n",
        "    plt.plot(fpr, tpr, label=f'ROC curve (area = {roc_auc:.2f})')\n",
        "    plt.plot([0, 1], [0, 1], 'k--')\n",
        "    plt.xlabel('False Positive Rate')\n",
        "    plt.ylabel('True Positive Rate')\n",
        "    plt.title('Receiver Operating Characteristic (ROC) Curve')\n",
        "\n",
        "    plt.legend()\n",
        "    plt.show()"
      ],
      "metadata": {
        "id": "J87lBhS251k-"
      },
      "id": "J87lBhS251k-",
      "execution_count": 25,
      "outputs": []
    },
    {
      "cell_type": "code",
      "source": [
        "# since TfidfVectorizer directly took processed_text as input, tokenizing was not necessary\n",
        "# converting text into TfidfVectorizer\n",
        "\n",
        "from sklearn.feature_extraction.text import TfidfVectorizer\n",
        "\n",
        "# Initialize the TF-IDF vectorizer\n",
        "tfidf_vectorizer = TfidfVectorizer()\n",
        "\n",
        "# Fit and transform the tokenized texts\n",
        "tfidf_matrix = tfidf_vectorizer.fit_transform(processed_text)"
      ],
      "metadata": {
        "id": "Oz9XxUoLQog9"
      },
      "id": "Oz9XxUoLQog9",
      "execution_count": 26,
      "outputs": []
    },
    {
      "cell_type": "code",
      "source": [
        "# using both CountVectorizer and Tfidf for comparision\n",
        "from sklearn.feature_extraction.text import CountVectorizer\n",
        "\n",
        "# Initialize the CountVectorizer\n",
        "count_vectorizer = CountVectorizer()\n",
        "\n",
        "# Fit and transform the tokenized texts\n",
        "count_matrix = count_vectorizer.fit_transform(processed_text)"
      ],
      "metadata": {
        "id": "l6wrReMgQ-Ts"
      },
      "id": "l6wrReMgQ-Ts",
      "execution_count": 39,
      "outputs": []
    },
    {
      "cell_type": "code",
      "execution_count": 40,
      "metadata": {
        "id": "60f21e59-381b-402c-973a-ecc52f3fb4ef"
      },
      "outputs": [],
      "source": [
        "# train test split and keep 5000 random rows as held-out test set, tested with both count vectorizer and tfidf\n",
        "\n",
        "from sklearn.model_selection import train_test_split\n",
        "\n",
        "# select processed_title, processed_text as features\n",
        "target = news.label\n",
        "X_train, X_test, y_train, y_test = train_test_split(count_matrix, target, test_size=5000, random_state=2)\n"
      ],
      "id": "60f21e59-381b-402c-973a-ecc52f3fb4ef"
    },
    {
      "cell_type": "code",
      "source": [
        "# apply naive bayes on the features and target with and without cross fold\n",
        "from sklearn.naive_bayes import MultinomialNB\n",
        "\n",
        "# Multinomial Naive Bayes model initializing\n",
        "model_without_kf = MultinomialNB()\n",
        "\n",
        "# Fitting the model on the training data\n",
        "model_without_kf.fit(X_train, y_train)"
      ],
      "metadata": {
        "colab": {
          "base_uri": "https://localhost:8080/",
          "height": 80
        },
        "id": "n3kA14QAPmtu",
        "outputId": "830d20a1-6ffb-4026-84e8-399d8b881ac7"
      },
      "id": "n3kA14QAPmtu",
      "execution_count": 41,
      "outputs": [
        {
          "output_type": "execute_result",
          "data": {
            "text/plain": [
              "MultinomialNB()"
            ],
            "text/html": [
              "<style>#sk-container-id-3 {\n",
              "  /* Definition of color scheme common for light and dark mode */\n",
              "  --sklearn-color-text: black;\n",
              "  --sklearn-color-line: gray;\n",
              "  /* Definition of color scheme for unfitted estimators */\n",
              "  --sklearn-color-unfitted-level-0: #fff5e6;\n",
              "  --sklearn-color-unfitted-level-1: #f6e4d2;\n",
              "  --sklearn-color-unfitted-level-2: #ffe0b3;\n",
              "  --sklearn-color-unfitted-level-3: chocolate;\n",
              "  /* Definition of color scheme for fitted estimators */\n",
              "  --sklearn-color-fitted-level-0: #f0f8ff;\n",
              "  --sklearn-color-fitted-level-1: #d4ebff;\n",
              "  --sklearn-color-fitted-level-2: #b3dbfd;\n",
              "  --sklearn-color-fitted-level-3: cornflowerblue;\n",
              "\n",
              "  /* Specific color for light theme */\n",
              "  --sklearn-color-text-on-default-background: var(--sg-text-color, var(--theme-code-foreground, var(--jp-content-font-color1, black)));\n",
              "  --sklearn-color-background: var(--sg-background-color, var(--theme-background, var(--jp-layout-color0, white)));\n",
              "  --sklearn-color-border-box: var(--sg-text-color, var(--theme-code-foreground, var(--jp-content-font-color1, black)));\n",
              "  --sklearn-color-icon: #696969;\n",
              "\n",
              "  @media (prefers-color-scheme: dark) {\n",
              "    /* Redefinition of color scheme for dark theme */\n",
              "    --sklearn-color-text-on-default-background: var(--sg-text-color, var(--theme-code-foreground, var(--jp-content-font-color1, white)));\n",
              "    --sklearn-color-background: var(--sg-background-color, var(--theme-background, var(--jp-layout-color0, #111)));\n",
              "    --sklearn-color-border-box: var(--sg-text-color, var(--theme-code-foreground, var(--jp-content-font-color1, white)));\n",
              "    --sklearn-color-icon: #878787;\n",
              "  }\n",
              "}\n",
              "\n",
              "#sk-container-id-3 {\n",
              "  color: var(--sklearn-color-text);\n",
              "}\n",
              "\n",
              "#sk-container-id-3 pre {\n",
              "  padding: 0;\n",
              "}\n",
              "\n",
              "#sk-container-id-3 input.sk-hidden--visually {\n",
              "  border: 0;\n",
              "  clip: rect(1px 1px 1px 1px);\n",
              "  clip: rect(1px, 1px, 1px, 1px);\n",
              "  height: 1px;\n",
              "  margin: -1px;\n",
              "  overflow: hidden;\n",
              "  padding: 0;\n",
              "  position: absolute;\n",
              "  width: 1px;\n",
              "}\n",
              "\n",
              "#sk-container-id-3 div.sk-dashed-wrapped {\n",
              "  border: 1px dashed var(--sklearn-color-line);\n",
              "  margin: 0 0.4em 0.5em 0.4em;\n",
              "  box-sizing: border-box;\n",
              "  padding-bottom: 0.4em;\n",
              "  background-color: var(--sklearn-color-background);\n",
              "}\n",
              "\n",
              "#sk-container-id-3 div.sk-container {\n",
              "  /* jupyter's `normalize.less` sets `[hidden] { display: none; }`\n",
              "     but bootstrap.min.css set `[hidden] { display: none !important; }`\n",
              "     so we also need the `!important` here to be able to override the\n",
              "     default hidden behavior on the sphinx rendered scikit-learn.org.\n",
              "     See: https://github.com/scikit-learn/scikit-learn/issues/21755 */\n",
              "  display: inline-block !important;\n",
              "  position: relative;\n",
              "}\n",
              "\n",
              "#sk-container-id-3 div.sk-text-repr-fallback {\n",
              "  display: none;\n",
              "}\n",
              "\n",
              "div.sk-parallel-item,\n",
              "div.sk-serial,\n",
              "div.sk-item {\n",
              "  /* draw centered vertical line to link estimators */\n",
              "  background-image: linear-gradient(var(--sklearn-color-text-on-default-background), var(--sklearn-color-text-on-default-background));\n",
              "  background-size: 2px 100%;\n",
              "  background-repeat: no-repeat;\n",
              "  background-position: center center;\n",
              "}\n",
              "\n",
              "/* Parallel-specific style estimator block */\n",
              "\n",
              "#sk-container-id-3 div.sk-parallel-item::after {\n",
              "  content: \"\";\n",
              "  width: 100%;\n",
              "  border-bottom: 2px solid var(--sklearn-color-text-on-default-background);\n",
              "  flex-grow: 1;\n",
              "}\n",
              "\n",
              "#sk-container-id-3 div.sk-parallel {\n",
              "  display: flex;\n",
              "  align-items: stretch;\n",
              "  justify-content: center;\n",
              "  background-color: var(--sklearn-color-background);\n",
              "  position: relative;\n",
              "}\n",
              "\n",
              "#sk-container-id-3 div.sk-parallel-item {\n",
              "  display: flex;\n",
              "  flex-direction: column;\n",
              "}\n",
              "\n",
              "#sk-container-id-3 div.sk-parallel-item:first-child::after {\n",
              "  align-self: flex-end;\n",
              "  width: 50%;\n",
              "}\n",
              "\n",
              "#sk-container-id-3 div.sk-parallel-item:last-child::after {\n",
              "  align-self: flex-start;\n",
              "  width: 50%;\n",
              "}\n",
              "\n",
              "#sk-container-id-3 div.sk-parallel-item:only-child::after {\n",
              "  width: 0;\n",
              "}\n",
              "\n",
              "/* Serial-specific style estimator block */\n",
              "\n",
              "#sk-container-id-3 div.sk-serial {\n",
              "  display: flex;\n",
              "  flex-direction: column;\n",
              "  align-items: center;\n",
              "  background-color: var(--sklearn-color-background);\n",
              "  padding-right: 1em;\n",
              "  padding-left: 1em;\n",
              "}\n",
              "\n",
              "\n",
              "/* Toggleable style: style used for estimator/Pipeline/ColumnTransformer box that is\n",
              "clickable and can be expanded/collapsed.\n",
              "- Pipeline and ColumnTransformer use this feature and define the default style\n",
              "- Estimators will overwrite some part of the style using the `sk-estimator` class\n",
              "*/\n",
              "\n",
              "/* Pipeline and ColumnTransformer style (default) */\n",
              "\n",
              "#sk-container-id-3 div.sk-toggleable {\n",
              "  /* Default theme specific background. It is overwritten whether we have a\n",
              "  specific estimator or a Pipeline/ColumnTransformer */\n",
              "  background-color: var(--sklearn-color-background);\n",
              "}\n",
              "\n",
              "/* Toggleable label */\n",
              "#sk-container-id-3 label.sk-toggleable__label {\n",
              "  cursor: pointer;\n",
              "  display: block;\n",
              "  width: 100%;\n",
              "  margin-bottom: 0;\n",
              "  padding: 0.5em;\n",
              "  box-sizing: border-box;\n",
              "  text-align: center;\n",
              "}\n",
              "\n",
              "#sk-container-id-3 label.sk-toggleable__label-arrow:before {\n",
              "  /* Arrow on the left of the label */\n",
              "  content: \"▸\";\n",
              "  float: left;\n",
              "  margin-right: 0.25em;\n",
              "  color: var(--sklearn-color-icon);\n",
              "}\n",
              "\n",
              "#sk-container-id-3 label.sk-toggleable__label-arrow:hover:before {\n",
              "  color: var(--sklearn-color-text);\n",
              "}\n",
              "\n",
              "/* Toggleable content - dropdown */\n",
              "\n",
              "#sk-container-id-3 div.sk-toggleable__content {\n",
              "  max-height: 0;\n",
              "  max-width: 0;\n",
              "  overflow: hidden;\n",
              "  text-align: left;\n",
              "  /* unfitted */\n",
              "  background-color: var(--sklearn-color-unfitted-level-0);\n",
              "}\n",
              "\n",
              "#sk-container-id-3 div.sk-toggleable__content.fitted {\n",
              "  /* fitted */\n",
              "  background-color: var(--sklearn-color-fitted-level-0);\n",
              "}\n",
              "\n",
              "#sk-container-id-3 div.sk-toggleable__content pre {\n",
              "  margin: 0.2em;\n",
              "  border-radius: 0.25em;\n",
              "  color: var(--sklearn-color-text);\n",
              "  /* unfitted */\n",
              "  background-color: var(--sklearn-color-unfitted-level-0);\n",
              "}\n",
              "\n",
              "#sk-container-id-3 div.sk-toggleable__content.fitted pre {\n",
              "  /* unfitted */\n",
              "  background-color: var(--sklearn-color-fitted-level-0);\n",
              "}\n",
              "\n",
              "#sk-container-id-3 input.sk-toggleable__control:checked~div.sk-toggleable__content {\n",
              "  /* Expand drop-down */\n",
              "  max-height: 200px;\n",
              "  max-width: 100%;\n",
              "  overflow: auto;\n",
              "}\n",
              "\n",
              "#sk-container-id-3 input.sk-toggleable__control:checked~label.sk-toggleable__label-arrow:before {\n",
              "  content: \"▾\";\n",
              "}\n",
              "\n",
              "/* Pipeline/ColumnTransformer-specific style */\n",
              "\n",
              "#sk-container-id-3 div.sk-label input.sk-toggleable__control:checked~label.sk-toggleable__label {\n",
              "  color: var(--sklearn-color-text);\n",
              "  background-color: var(--sklearn-color-unfitted-level-2);\n",
              "}\n",
              "\n",
              "#sk-container-id-3 div.sk-label.fitted input.sk-toggleable__control:checked~label.sk-toggleable__label {\n",
              "  background-color: var(--sklearn-color-fitted-level-2);\n",
              "}\n",
              "\n",
              "/* Estimator-specific style */\n",
              "\n",
              "/* Colorize estimator box */\n",
              "#sk-container-id-3 div.sk-estimator input.sk-toggleable__control:checked~label.sk-toggleable__label {\n",
              "  /* unfitted */\n",
              "  background-color: var(--sklearn-color-unfitted-level-2);\n",
              "}\n",
              "\n",
              "#sk-container-id-3 div.sk-estimator.fitted input.sk-toggleable__control:checked~label.sk-toggleable__label {\n",
              "  /* fitted */\n",
              "  background-color: var(--sklearn-color-fitted-level-2);\n",
              "}\n",
              "\n",
              "#sk-container-id-3 div.sk-label label.sk-toggleable__label,\n",
              "#sk-container-id-3 div.sk-label label {\n",
              "  /* The background is the default theme color */\n",
              "  color: var(--sklearn-color-text-on-default-background);\n",
              "}\n",
              "\n",
              "/* On hover, darken the color of the background */\n",
              "#sk-container-id-3 div.sk-label:hover label.sk-toggleable__label {\n",
              "  color: var(--sklearn-color-text);\n",
              "  background-color: var(--sklearn-color-unfitted-level-2);\n",
              "}\n",
              "\n",
              "/* Label box, darken color on hover, fitted */\n",
              "#sk-container-id-3 div.sk-label.fitted:hover label.sk-toggleable__label.fitted {\n",
              "  color: var(--sklearn-color-text);\n",
              "  background-color: var(--sklearn-color-fitted-level-2);\n",
              "}\n",
              "\n",
              "/* Estimator label */\n",
              "\n",
              "#sk-container-id-3 div.sk-label label {\n",
              "  font-family: monospace;\n",
              "  font-weight: bold;\n",
              "  display: inline-block;\n",
              "  line-height: 1.2em;\n",
              "}\n",
              "\n",
              "#sk-container-id-3 div.sk-label-container {\n",
              "  text-align: center;\n",
              "}\n",
              "\n",
              "/* Estimator-specific */\n",
              "#sk-container-id-3 div.sk-estimator {\n",
              "  font-family: monospace;\n",
              "  border: 1px dotted var(--sklearn-color-border-box);\n",
              "  border-radius: 0.25em;\n",
              "  box-sizing: border-box;\n",
              "  margin-bottom: 0.5em;\n",
              "  /* unfitted */\n",
              "  background-color: var(--sklearn-color-unfitted-level-0);\n",
              "}\n",
              "\n",
              "#sk-container-id-3 div.sk-estimator.fitted {\n",
              "  /* fitted */\n",
              "  background-color: var(--sklearn-color-fitted-level-0);\n",
              "}\n",
              "\n",
              "/* on hover */\n",
              "#sk-container-id-3 div.sk-estimator:hover {\n",
              "  /* unfitted */\n",
              "  background-color: var(--sklearn-color-unfitted-level-2);\n",
              "}\n",
              "\n",
              "#sk-container-id-3 div.sk-estimator.fitted:hover {\n",
              "  /* fitted */\n",
              "  background-color: var(--sklearn-color-fitted-level-2);\n",
              "}\n",
              "\n",
              "/* Specification for estimator info (e.g. \"i\" and \"?\") */\n",
              "\n",
              "/* Common style for \"i\" and \"?\" */\n",
              "\n",
              ".sk-estimator-doc-link,\n",
              "a:link.sk-estimator-doc-link,\n",
              "a:visited.sk-estimator-doc-link {\n",
              "  float: right;\n",
              "  font-size: smaller;\n",
              "  line-height: 1em;\n",
              "  font-family: monospace;\n",
              "  background-color: var(--sklearn-color-background);\n",
              "  border-radius: 1em;\n",
              "  height: 1em;\n",
              "  width: 1em;\n",
              "  text-decoration: none !important;\n",
              "  margin-left: 1ex;\n",
              "  /* unfitted */\n",
              "  border: var(--sklearn-color-unfitted-level-1) 1pt solid;\n",
              "  color: var(--sklearn-color-unfitted-level-1);\n",
              "}\n",
              "\n",
              ".sk-estimator-doc-link.fitted,\n",
              "a:link.sk-estimator-doc-link.fitted,\n",
              "a:visited.sk-estimator-doc-link.fitted {\n",
              "  /* fitted */\n",
              "  border: var(--sklearn-color-fitted-level-1) 1pt solid;\n",
              "  color: var(--sklearn-color-fitted-level-1);\n",
              "}\n",
              "\n",
              "/* On hover */\n",
              "div.sk-estimator:hover .sk-estimator-doc-link:hover,\n",
              ".sk-estimator-doc-link:hover,\n",
              "div.sk-label-container:hover .sk-estimator-doc-link:hover,\n",
              ".sk-estimator-doc-link:hover {\n",
              "  /* unfitted */\n",
              "  background-color: var(--sklearn-color-unfitted-level-3);\n",
              "  color: var(--sklearn-color-background);\n",
              "  text-decoration: none;\n",
              "}\n",
              "\n",
              "div.sk-estimator.fitted:hover .sk-estimator-doc-link.fitted:hover,\n",
              ".sk-estimator-doc-link.fitted:hover,\n",
              "div.sk-label-container:hover .sk-estimator-doc-link.fitted:hover,\n",
              ".sk-estimator-doc-link.fitted:hover {\n",
              "  /* fitted */\n",
              "  background-color: var(--sklearn-color-fitted-level-3);\n",
              "  color: var(--sklearn-color-background);\n",
              "  text-decoration: none;\n",
              "}\n",
              "\n",
              "/* Span, style for the box shown on hovering the info icon */\n",
              ".sk-estimator-doc-link span {\n",
              "  display: none;\n",
              "  z-index: 9999;\n",
              "  position: relative;\n",
              "  font-weight: normal;\n",
              "  right: .2ex;\n",
              "  padding: .5ex;\n",
              "  margin: .5ex;\n",
              "  width: min-content;\n",
              "  min-width: 20ex;\n",
              "  max-width: 50ex;\n",
              "  color: var(--sklearn-color-text);\n",
              "  box-shadow: 2pt 2pt 4pt #999;\n",
              "  /* unfitted */\n",
              "  background: var(--sklearn-color-unfitted-level-0);\n",
              "  border: .5pt solid var(--sklearn-color-unfitted-level-3);\n",
              "}\n",
              "\n",
              ".sk-estimator-doc-link.fitted span {\n",
              "  /* fitted */\n",
              "  background: var(--sklearn-color-fitted-level-0);\n",
              "  border: var(--sklearn-color-fitted-level-3);\n",
              "}\n",
              "\n",
              ".sk-estimator-doc-link:hover span {\n",
              "  display: block;\n",
              "}\n",
              "\n",
              "/* \"?\"-specific style due to the `<a>` HTML tag */\n",
              "\n",
              "#sk-container-id-3 a.estimator_doc_link {\n",
              "  float: right;\n",
              "  font-size: 1rem;\n",
              "  line-height: 1em;\n",
              "  font-family: monospace;\n",
              "  background-color: var(--sklearn-color-background);\n",
              "  border-radius: 1rem;\n",
              "  height: 1rem;\n",
              "  width: 1rem;\n",
              "  text-decoration: none;\n",
              "  /* unfitted */\n",
              "  color: var(--sklearn-color-unfitted-level-1);\n",
              "  border: var(--sklearn-color-unfitted-level-1) 1pt solid;\n",
              "}\n",
              "\n",
              "#sk-container-id-3 a.estimator_doc_link.fitted {\n",
              "  /* fitted */\n",
              "  border: var(--sklearn-color-fitted-level-1) 1pt solid;\n",
              "  color: var(--sklearn-color-fitted-level-1);\n",
              "}\n",
              "\n",
              "/* On hover */\n",
              "#sk-container-id-3 a.estimator_doc_link:hover {\n",
              "  /* unfitted */\n",
              "  background-color: var(--sklearn-color-unfitted-level-3);\n",
              "  color: var(--sklearn-color-background);\n",
              "  text-decoration: none;\n",
              "}\n",
              "\n",
              "#sk-container-id-3 a.estimator_doc_link.fitted:hover {\n",
              "  /* fitted */\n",
              "  background-color: var(--sklearn-color-fitted-level-3);\n",
              "}\n",
              "</style><div id=\"sk-container-id-3\" class=\"sk-top-container\"><div class=\"sk-text-repr-fallback\"><pre>MultinomialNB()</pre><b>In a Jupyter environment, please rerun this cell to show the HTML representation or trust the notebook. <br />On GitHub, the HTML representation is unable to render, please try loading this page with nbviewer.org.</b></div><div class=\"sk-container\" hidden><div class=\"sk-item\"><div class=\"sk-estimator fitted sk-toggleable\"><input class=\"sk-toggleable__control sk-hidden--visually\" id=\"sk-estimator-id-3\" type=\"checkbox\" checked><label for=\"sk-estimator-id-3\" class=\"sk-toggleable__label fitted sk-toggleable__label-arrow fitted\">&nbsp;&nbsp;MultinomialNB<a class=\"sk-estimator-doc-link fitted\" rel=\"noreferrer\" target=\"_blank\" href=\"https://scikit-learn.org/1.5/modules/generated/sklearn.naive_bayes.MultinomialNB.html\">?<span>Documentation for MultinomialNB</span></a><span class=\"sk-estimator-doc-link fitted\">i<span>Fitted</span></span></label><div class=\"sk-toggleable__content fitted\"><pre>MultinomialNB()</pre></div> </div></div></div></div>"
            ]
          },
          "metadata": {},
          "execution_count": 41
        }
      ]
    },
    {
      "cell_type": "code",
      "source": [
        "# test model on naive bayes\n",
        "test_model(model_without_kf, X_test, y_test)"
      ],
      "metadata": {
        "colab": {
          "base_uri": "https://localhost:8080/",
          "height": 559
        },
        "id": "yZfTBLRM7mtp",
        "outputId": "7734087b-2cb6-473f-dde8-6db8a74079bd"
      },
      "id": "yZfTBLRM7mtp",
      "execution_count": 43,
      "outputs": [
        {
          "output_type": "stream",
          "name": "stdout",
          "text": [
            "Accuracy: 0.95\n",
            "Precision: 0.95\n",
            "Recall: 0.95\n",
            "F1-score: 0.95\n",
            "ROC AUC: 0.95\n"
          ]
        },
        {
          "output_type": "display_data",
          "data": {
            "text/plain": [
              "<Figure size 640x480 with 1 Axes>"
            ],
            "image/png": "[encoded data removed]"
          },
          "metadata": {}
        }
      ]
    },
    {
      "cell_type": "code",
      "source": [
        "from sklearn.metrics import accuracy_score, classification_report\n",
        "\n",
        "# Make predictions on the test set\n",
        "y_pred_without_kf = model_without_kf.predict(X_test)\n",
        "\n",
        "# Calculate accuracy\n",
        "accuracy = accuracy_score(y_test, y_pred_without_kf)\n",
        "print(f'Accuracy: {accuracy * 100:.2f}%')\n",
        "\n",
        "# Print classification report\n",
        "print(classification_report(y_test, y_pred_without_kf))"
      ],
      "metadata": {
        "colab": {
          "base_uri": "https://localhost:8080/"
        },
        "id": "TFOXGcySQkXp",
        "outputId": "052f7638-3e30-4da8-eb9c-cdca8f3f347c"
      },
      "id": "TFOXGcySQkXp",
      "execution_count": 45,
      "outputs": [
        {
          "output_type": "stream",
          "name": "stdout",
          "text": [
            "Accuracy: 94.88%\n",
            "              precision    recall  f1-score   support\n",
            "\n",
            "           0       0.95      0.94      0.95      2392\n",
            "           1       0.95      0.95      0.95      2608\n",
            "\n",
            "    accuracy                           0.95      5000\n",
            "   macro avg       0.95      0.95      0.95      5000\n",
            "weighted avg       0.95      0.95      0.95      5000\n",
            "\n"
          ]
        }
      ]
    },
    {
      "cell_type": "code",
      "execution_count": 46,
      "metadata": {
        "id": "e42294ee-27f1-45ab-a531-110303846308"
      },
      "outputs": [],
      "source": [
        "# Using StratifiedKFold rather than Kfold in order to prevent biasness\n",
        "from sklearn.model_selection import StratifiedKFold\n",
        "\n",
        "import numpy as np\n",
        "\n",
        "skf = StratifiedKFold(n_splits=5, shuffle=False) # Data not shuffled because of earlier shuffling\n"
      ],
      "id": "e42294ee-27f1-45ab-a531-110303846308"
    },
    {
      "cell_type": "code",
      "source": [
        "# List to store accuracy for each fold\n",
        "accuracy_scores = []\n",
        "\n",
        "# Initialize the model\n",
        "model_with_kf = MultinomialNB()\n",
        "\n",
        "# Perform Stratified K-Fold cross-validation\n",
        "for train_index, val_index in skf.split(X_train, y_train):\n",
        "    X_fold_train, X_val = X_train[train_index], X_train[val_index]\n",
        "    y_fold_train, y_val = y_train.iloc[train_index], y_train.iloc[val_index]\n",
        "\n",
        "\n",
        "    # Fit the model on the training data\n",
        "    model_with_kf.fit(X_fold_train, y_fold_train)\n",
        "\n",
        "    # Validate the model on the validation set\n",
        "    y_val_pred = model_with_kf.predict(X_val)\n",
        "\n",
        "    # Calculate accuracy for the validation set\n",
        "    accuracy = accuracy_score(y_val, y_val_pred)\n",
        "    accuracy_scores.append(accuracy)\n",
        "\n",
        "# Calculate the average accuracy across all folds\n",
        "average_validation_accuracy = sum(accuracy_scores) / len(accuracy_scores)\n",
        "print(f'Average Validation Accuracy: {average_validation_accuracy * 100:.2f}%')\n",
        "\n",
        "# Final evaluation on the test set\n",
        "y_test_pred_with_kf = model_with_kf.predict(X_test)\n",
        "test_accuracy = accuracy_score(y_test, y_test_pred_with_kf)\n",
        "print(f'Test Accuracy: {test_accuracy * 100:.2f}%')\n",
        "\n",
        "\n",
        "# accuracy of validation set and final test accuracy\n",
        "plt.plot(range(1, len(accuracy_scores) + 1), accuracy_scores, marker='o', label='Validation Accuracy')\n",
        "plt.xlabel('Fold')\n",
        "plt.ylabel('Accuracy')\n",
        "plt.title('Stratified K-Fold Cross-Validation Accuracy')\n",
        "\n",
        "# plot test set accuracy as well\n",
        "plt.axhline(y=test_accuracy, color='r', linestyle='--', label=f'Test Accuracy: {test_accuracy * 100:.2f}%')\n",
        "\n",
        "plt.legend()\n",
        "plt.show()\n",
        "\n",
        "\n",
        "\n",
        "\n"
      ],
      "metadata": {
        "colab": {
          "base_uri": "https://localhost:8080/",
          "height": 507
        },
        "id": "jkDp7WseToJM",
        "outputId": "8b6e1142-71b8-417e-cbf4-4907a40f6d86"
      },
      "id": "jkDp7WseToJM",
      "execution_count": 54,
      "outputs": [
        {
          "output_type": "stream",
          "name": "stdout",
          "text": [
            "Average Validation Accuracy: 94.77%\n",
            "Test Accuracy: 94.82%\n"
          ]
        },
        {
          "output_type": "display_data",
          "data": {
            "text/plain": [
              "<Figure size 640x480 with 1 Axes>"
            ],
            "image/png": "[encoded data removed]"
          },
          "metadata": {}
        }
      ]
    },
    {
      "cell_type": "code",
      "source": [
        "\n",
        "from sklearn.metrics import accuracy_score, precision_score, recall_score, f1_score, roc_auc_score, roc_curve\n",
        "import matplotlib.pyplot as plt\n",
        "\n",
        "\n",
        "# Make predictions on the test set\n",
        "y_pred_with_kf = model_with_kf.predict(X_test)\n",
        "\n",
        "accuracy = accuracy_score(y_test, y_pred_with_kf)\n",
        "precision = precision_score(y_test, y_pred_with_kf)\n",
        "recall = recall_score(y_test, y_pred_with_kf)\n",
        "f1 = f1_score(y_test, y_pred_with_kf)\n",
        "roc_auc = roc_auc_score(y_test, y_pred_with_kf)\n",
        "\n",
        "print(f'Accuracy: {accuracy:.2f}')\n",
        "print(f'Precision: {precision:.2f}')\n",
        "print(f'Recall: {recall:.2f}')\n",
        "print(f'F1-score: {f1:.2f}')\n",
        "print(f'ROC AUC: {roc_auc:.2f}')\n",
        "\n",
        "# plot the ROC_AUC curve\n",
        "fpr, tpr, thresholds = roc_curve(y_test, y_pred_with_kf)\n",
        "plt.plot(fpr, tpr, label=f'ROC curve (area = {roc_auc:.2f})')\n",
        "plt.plot([0, 1], [0, 1], 'k--')\n",
        "plt.xlabel('False Positive Rate')\n",
        "plt.ylabel('True Positive Rate')\n",
        "plt.title('Receiver Operating Characteristic (ROC) Curve')\n",
        "\n",
        "plt.legend()\n",
        "plt.show()\n",
        "\n",
        "\n",
        "\n",
        "\n"
      ],
      "metadata": {
        "colab": {
          "base_uri": "https://localhost:8080/",
          "height": 559
        },
        "id": "FOqehD5hTz7G",
        "outputId": "be59fe8f-a473-4f46-c761-0ed8c83fad5f"
      },
      "id": "FOqehD5hTz7G",
      "execution_count": 55,
      "outputs": [
        {
          "output_type": "stream",
          "name": "stdout",
          "text": [
            "Accuracy: 0.95\n",
            "Precision: 0.95\n",
            "Recall: 0.95\n",
            "F1-score: 0.95\n",
            "ROC AUC: 0.95\n"
          ]
        },
        {
          "output_type": "display_data",
          "data": {
            "text/plain": [
              "<Figure size 640x480 with 1 Axes>"
            ],
            "image/png": "[encoded data removed]"
          },
          "metadata": {}
        }
      ]
    },
    {
      "cell_type": "code",
      "source": [
        "from sklearn.metrics import confusion_matrix\n",
        "\n",
        "# Calculate the confusion matrix\n",
        "cm = confusion_matrix(y_test, y_pred_with_kf)\n",
        "\n",
        "#heatmap of confusion matrix\n",
        "import seaborn as sns\n",
        "sns.heatmap(cm, annot=True, fmt='d')\n",
        "plt.xlabel('Predicted')\n",
        "plt.ylabel('Actual')\n",
        "plt.title('Confusion Matrix')\n",
        "plt.show()"
      ],
      "metadata": {
        "colab": {
          "base_uri": "https://localhost:8080/",
          "height": 472
        },
        "id": "o9buCFUkZiL_",
        "outputId": "c35808c2-d68b-446a-8bf0-19a224f8c3f1"
      },
      "id": "o9buCFUkZiL_",
      "execution_count": 66,
      "outputs": [
        {
          "output_type": "display_data",
          "data": {
            "text/plain": [
              "<Figure size 640x480 with 2 Axes>"
            ],
            "image/png": "[encoded data removed]"
          },
          "metadata": {}
        }
      ]
    },
    {
      "cell_type": "code",
      "source": [
        "# testing accuracy on train data\n",
        "y_train_pred_with_kf = model_with_kf.predict(X_train)\n",
        "train_accuracy = accuracy_score(y_train, y_train_pred_with_kf)\n",
        "print(f'Train Accuracy: {train_accuracy * 100:.2f}%')"
      ],
      "metadata": {
        "colab": {
          "base_uri": "https://localhost:8080/"
        },
        "id": "Jkgf-yC6Z43n",
        "outputId": "4beaf8f6-617b-41a6-e918-02a5eba32a83"
      },
      "id": "Jkgf-yC6Z43n",
      "execution_count": 32,
      "outputs": [
        {
          "output_type": "stream",
          "name": "stdout",
          "text": [
            "Train Accuracy: 95.54%\n"
          ]
        }
      ]
    },
    {
      "cell_type": "code",
      "source": [
        "# plotting confusion matrix on prediction with cross fold\n",
        "cm_train = confusion_matrix(y_train, y_train_pred_with_kf)\n",
        "sns.heatmap(cm_train, annot=True, fmt='d')\n",
        "plt.xlabel('Predicted')\n",
        "plt.ylabel('Actual')\n",
        "plt.title('Confusion Matrix')\n",
        "plt.show()"
      ],
      "metadata": {
        "colab": {
          "base_uri": "https://localhost:8080/",
          "height": 472
        },
        "id": "1l3gWaLJbUwo",
        "outputId": "21270668-f78b-45f6-b4b8-4dbad0d9854b"
      },
      "id": "1l3gWaLJbUwo",
      "execution_count": 33,
      "outputs": [
        {
          "output_type": "display_data",
          "data": {
            "text/plain": [
              "<Figure size 640x480 with 2 Axes>"
            ],
            "image/png": "[encoded data removed]"
          },
          "metadata": {}
        }
      ]
    },
    {
      "cell_type": "code",
      "source": [
        "# Checking if actual news(text) works better on classification or the title\n",
        "\n",
        "title_count_vectorizer = CountVectorizer() # count vectorizer of title only\n",
        "title_count_matrix = title_count_vectorizer.fit_transform(processed_title)\n",
        "\n",
        "#converting to dataframe\n",
        "title_count_df = pd.DataFrame(title_count_matrix.toarray(), columns=title_count_vectorizer.get_feature_names_out())\n"
      ],
      "metadata": {
        "id": "xerdgeNKbcBp"
      },
      "id": "xerdgeNKbcBp",
      "execution_count": 57,
      "outputs": []
    },
    {
      "cell_type": "code",
      "source": [
        "# spliting the count vectorizer of title into train test\n",
        "X_train_title, X_test_title, y_train_title, y_test_title = train_test_split(title_count_matrix, target, test_size=5000, random_state=2)\n",
        "\n",
        "title_model_without_kt = MultinomialNB()\n",
        "title_model_without_kt.fit(X_train_title, y_train_title)\n",
        "title_model_without_kt.score(X_test_title, y_test_title)\n",
        "\n",
        "test_model(title_model_without_kt, X_test_title, y_test_title)\n",
        "# better accuracy observed"
      ],
      "metadata": {
        "colab": {
          "base_uri": "https://localhost:8080/",
          "height": 559
        },
        "id": "oyGBtaprwTig",
        "outputId": "a1265516-8443-4ca2-b57f-1d0c76810579"
      },
      "id": "oyGBtaprwTig",
      "execution_count": 58,
      "outputs": [
        {
          "output_type": "stream",
          "name": "stdout",
          "text": [
            "Accuracy: 0.97\n",
            "Precision: 0.97\n",
            "Recall: 0.98\n",
            "F1-score: 0.97\n",
            "ROC AUC: 0.97\n"
          ]
        },
        {
          "output_type": "display_data",
          "data": {
            "text/plain": [
              "<Figure size 640x480 with 1 Axes>"
            ],
            "image/png": "[encoded data removed]"
          },
          "metadata": {}
        }
      ]
    },
    {
      "cell_type": "markdown",
      "source": [
        "#### **---------Higher Accuracy observed on title------------**"
      ],
      "metadata": {
        "id": "1XfWyvbfHvOx"
      },
      "id": "1XfWyvbfHvOx"
    },
    {
      "cell_type": "code",
      "source": [
        "# checking with tfidfvectorizer on title using cross validation\n",
        "\n",
        "title_tfidf_vectorizer = TfidfVectorizer()\n",
        "title_tfidf_matrix = title_tfidf_vectorizer.fit_transform(processed_title)\n",
        "\n",
        "title_count_df = pd.DataFrame(title_tfidf_matrix.toarray(), columns=title_count_vectorizer.get_feature_names_out())\n"
      ],
      "metadata": {
        "id": "3CyykARwzKPN"
      },
      "id": "3CyykARwzKPN",
      "execution_count": 36,
      "outputs": []
    },
    {
      "cell_type": "code",
      "source": [
        "title_accuracy_score = []\n",
        "title_model_with_kf = MultinomialNB()\n",
        "\n",
        "# using stratified k fold on the title splited data\n",
        "for train_index, val_index in skf.split(X_train_title, y_train_title):\n",
        "    X_fold_train, X_val = X_train_title[train_index], X_train_title[val_index]\n",
        "    y_fold_train, y_val = y_train_title.iloc[train_index], y_train_title.iloc[val_index]\n",
        "\n",
        "    title_model_with_kf.fit(X_fold_train, y_fold_train)\n",
        "    y_val_pred = title_model_with_kf.predict(X_val)\n",
        "\n",
        "    accuracy = accuracy_score(y_val, y_val_pred)\n",
        "    print(f'Accuracy: {accuracy * 100:.2f}%')\n",
        "    title_accuracy_score.append(accuracy)\n",
        "\n",
        "average_validation_accuracy = sum(title_accuracy_score) / len(title_accuracy_score)\n",
        "print(f'Average Validation Accuracy: {average_validation_accuracy * 100:.2f}%')\n",
        "\n",
        "y_test_pred = title_model_with_kf.predict(X_test_title)\n",
        "test_accuracy = accuracy_score(y_test_title, y_test_pred)\n",
        "print(f'Test Accuracy: {test_accuracy * 100:.2f}%')"
      ],
      "metadata": {
        "colab": {
          "base_uri": "https://localhost:8080/"
        },
        "id": "_Pi17kPxwjK4",
        "outputId": "0d6e654d-7827-4440-fe89-04b84c2eecf7"
      },
      "id": "_Pi17kPxwjK4",
      "execution_count": 37,
      "outputs": [
        {
          "output_type": "stream",
          "name": "stdout",
          "text": [
            "Accuracy: 97.37%\n",
            "Accuracy: 97.44%\n",
            "Accuracy: 97.41%\n",
            "Accuracy: 97.34%\n",
            "Accuracy: 97.29%\n",
            "Average Validation Accuracy: 97.37%\n",
            "Test Accuracy: 97.24%\n"
          ]
        }
      ]
    },
    {
      "cell_type": "markdown",
      "source": [
        "#### **--------- Similarly Higher Accuracy observed on title with tfidf------------**"
      ],
      "metadata": {
        "id": "qpCXlz8TH6eK"
      },
      "id": "qpCXlz8TH6eK"
    },
    {
      "cell_type": "markdown",
      "source": [
        "# **--------------------  Task 3 ----------------------**"
      ],
      "metadata": {
        "id": "rEoU9L64JzEa"
      },
      "id": "rEoU9L64JzEa"
    },
    {
      "cell_type": "code",
      "source": [
        "# Applying Logistic Regression classifier on the preprocessed data.\n",
        "\n",
        "from sklearn.linear_model import LogisticRegression\n",
        "\n",
        "# Initialize the Logistic Regression model\n",
        "logistic_model = LogisticRegression()\n",
        "\n",
        "# Fit the model on the training data\n",
        "logistic_model.fit(X_train, y_train)"
      ],
      "metadata": {
        "colab": {
          "base_uri": "https://localhost:8080/",
          "height": 80
        },
        "id": "x3QROzChwzgm",
        "outputId": "ea89f007-da4f-457d-9977-7caaf8ecb692"
      },
      "id": "x3QROzChwzgm",
      "execution_count": 59,
      "outputs": [
        {
          "output_type": "execute_result",
          "data": {
            "text/plain": [
              "LogisticRegression()"
            ],
            "text/html": [
              "<style>#sk-container-id-4 {\n",
              "  /* Definition of color scheme common for light and dark mode */\n",
              "  --sklearn-color-text: black;\n",
              "  --sklearn-color-line: gray;\n",
              "  /* Definition of color scheme for unfitted estimators */\n",
              "  --sklearn-color-unfitted-level-0: #fff5e6;\n",
              "  --sklearn-color-unfitted-level-1: #f6e4d2;\n",
              "  --sklearn-color-unfitted-level-2: #ffe0b3;\n",
              "  --sklearn-color-unfitted-level-3: chocolate;\n",
              "  /* Definition of color scheme for fitted estimators */\n",
              "  --sklearn-color-fitted-level-0: #f0f8ff;\n",
              "  --sklearn-color-fitted-level-1: #d4ebff;\n",
              "  --sklearn-color-fitted-level-2: #b3dbfd;\n",
              "  --sklearn-color-fitted-level-3: cornflowerblue;\n",
              "\n",
              "  /* Specific color for light theme */\n",
              "  --sklearn-color-text-on-default-background: var(--sg-text-color, var(--theme-code-foreground, var(--jp-content-font-color1, black)));\n",
              "  --sklearn-color-background: var(--sg-background-color, var(--theme-background, var(--jp-layout-color0, white)));\n",
              "  --sklearn-color-border-box: var(--sg-text-color, var(--theme-code-foreground, var(--jp-content-font-color1, black)));\n",
              "  --sklearn-color-icon: #696969;\n",
              "\n",
              "  @media (prefers-color-scheme: dark) {\n",
              "    /* Redefinition of color scheme for dark theme */\n",
              "    --sklearn-color-text-on-default-background: var(--sg-text-color, var(--theme-code-foreground, var(--jp-content-font-color1, white)));\n",
              "    --sklearn-color-background: var(--sg-background-color, var(--theme-background, var(--jp-layout-color0, #111)));\n",
              "    --sklearn-color-border-box: var(--sg-text-color, var(--theme-code-foreground, var(--jp-content-font-color1, white)));\n",
              "    --sklearn-color-icon: #878787;\n",
              "  }\n",
              "}\n",
              "\n",
              "#sk-container-id-4 {\n",
              "  color: var(--sklearn-color-text);\n",
              "}\n",
              "\n",
              "#sk-container-id-4 pre {\n",
              "  padding: 0;\n",
              "}\n",
              "\n",
              "#sk-container-id-4 input.sk-hidden--visually {\n",
              "  border: 0;\n",
              "  clip: rect(1px 1px 1px 1px);\n",
              "  clip: rect(1px, 1px, 1px, 1px);\n",
              "  height: 1px;\n",
              "  margin: -1px;\n",
              "  overflow: hidden;\n",
              "  padding: 0;\n",
              "  position: absolute;\n",
              "  width: 1px;\n",
              "}\n",
              "\n",
              "#sk-container-id-4 div.sk-dashed-wrapped {\n",
              "  border: 1px dashed var(--sklearn-color-line);\n",
              "  margin: 0 0.4em 0.5em 0.4em;\n",
              "  box-sizing: border-box;\n",
              "  padding-bottom: 0.4em;\n",
              "  background-color: var(--sklearn-color-background);\n",
              "}\n",
              "\n",
              "#sk-container-id-4 div.sk-container {\n",
              "  /* jupyter's `normalize.less` sets `[hidden] { display: none; }`\n",
              "     but bootstrap.min.css set `[hidden] { display: none !important; }`\n",
              "     so we also need the `!important` here to be able to override the\n",
              "     default hidden behavior on the sphinx rendered scikit-learn.org.\n",
              "     See: https://github.com/scikit-learn/scikit-learn/issues/21755 */\n",
              "  display: inline-block !important;\n",
              "  position: relative;\n",
              "}\n",
              "\n",
              "#sk-container-id-4 div.sk-text-repr-fallback {\n",
              "  display: none;\n",
              "}\n",
              "\n",
              "div.sk-parallel-item,\n",
              "div.sk-serial,\n",
              "div.sk-item {\n",
              "  /* draw centered vertical line to link estimators */\n",
              "  background-image: linear-gradient(var(--sklearn-color-text-on-default-background), var(--sklearn-color-text-on-default-background));\n",
              "  background-size: 2px 100%;\n",
              "  background-repeat: no-repeat;\n",
              "  background-position: center center;\n",
              "}\n",
              "\n",
              "/* Parallel-specific style estimator block */\n",
              "\n",
              "#sk-container-id-4 div.sk-parallel-item::after {\n",
              "  content: \"\";\n",
              "  width: 100%;\n",
              "  border-bottom: 2px solid var(--sklearn-color-text-on-default-background);\n",
              "  flex-grow: 1;\n",
              "}\n",
              "\n",
              "#sk-container-id-4 div.sk-parallel {\n",
              "  display: flex;\n",
              "  align-items: stretch;\n",
              "  justify-content: center;\n",
              "  background-color: var(--sklearn-color-background);\n",
              "  position: relative;\n",
              "}\n",
              "\n",
              "#sk-container-id-4 div.sk-parallel-item {\n",
              "  display: flex;\n",
              "  flex-direction: column;\n",
              "}\n",
              "\n",
              "#sk-container-id-4 div.sk-parallel-item:first-child::after {\n",
              "  align-self: flex-end;\n",
              "  width: 50%;\n",
              "}\n",
              "\n",
              "#sk-container-id-4 div.sk-parallel-item:last-child::after {\n",
              "  align-self: flex-start;\n",
              "  width: 50%;\n",
              "}\n",
              "\n",
              "#sk-container-id-4 div.sk-parallel-item:only-child::after {\n",
              "  width: 0;\n",
              "}\n",
              "\n",
              "/* Serial-specific style estimator block */\n",
              "\n",
              "#sk-container-id-4 div.sk-serial {\n",
              "  display: flex;\n",
              "  flex-direction: column;\n",
              "  align-items: center;\n",
              "  background-color: var(--sklearn-color-background);\n",
              "  padding-right: 1em;\n",
              "  padding-left: 1em;\n",
              "}\n",
              "\n",
              "\n",
              "/* Toggleable style: style used for estimator/Pipeline/ColumnTransformer box that is\n",
              "clickable and can be expanded/collapsed.\n",
              "- Pipeline and ColumnTransformer use this feature and define the default style\n",
              "- Estimators will overwrite some part of the style using the `sk-estimator` class\n",
              "*/\n",
              "\n",
              "/* Pipeline and ColumnTransformer style (default) */\n",
              "\n",
              "#sk-container-id-4 div.sk-toggleable {\n",
              "  /* Default theme specific background. It is overwritten whether we have a\n",
              "  specific estimator or a Pipeline/ColumnTransformer */\n",
              "  background-color: var(--sklearn-color-background);\n",
              "}\n",
              "\n",
              "/* Toggleable label */\n",
              "#sk-container-id-4 label.sk-toggleable__label {\n",
              "  cursor: pointer;\n",
              "  display: block;\n",
              "  width: 100%;\n",
              "  margin-bottom: 0;\n",
              "  padding: 0.5em;\n",
              "  box-sizing: border-box;\n",
              "  text-align: center;\n",
              "}\n",
              "\n",
              "#sk-container-id-4 label.sk-toggleable__label-arrow:before {\n",
              "  /* Arrow on the left of the label */\n",
              "  content: \"▸\";\n",
              "  float: left;\n",
              "  margin-right: 0.25em;\n",
              "  color: var(--sklearn-color-icon);\n",
              "}\n",
              "\n",
              "#sk-container-id-4 label.sk-toggleable__label-arrow:hover:before {\n",
              "  color: var(--sklearn-color-text);\n",
              "}\n",
              "\n",
              "/* Toggleable content - dropdown */\n",
              "\n",
              "#sk-container-id-4 div.sk-toggleable__content {\n",
              "  max-height: 0;\n",
              "  max-width: 0;\n",
              "  overflow: hidden;\n",
              "  text-align: left;\n",
              "  /* unfitted */\n",
              "  background-color: var(--sklearn-color-unfitted-level-0);\n",
              "}\n",
              "\n",
              "#sk-container-id-4 div.sk-toggleable__content.fitted {\n",
              "  /* fitted */\n",
              "  background-color: var(--sklearn-color-fitted-level-0);\n",
              "}\n",
              "\n",
              "#sk-container-id-4 div.sk-toggleable__content pre {\n",
              "  margin: 0.2em;\n",
              "  border-radius: 0.25em;\n",
              "  color: var(--sklearn-color-text);\n",
              "  /* unfitted */\n",
              "  background-color: var(--sklearn-color-unfitted-level-0);\n",
              "}\n",
              "\n",
              "#sk-container-id-4 div.sk-toggleable__content.fitted pre {\n",
              "  /* unfitted */\n",
              "  background-color: var(--sklearn-color-fitted-level-0);\n",
              "}\n",
              "\n",
              "#sk-container-id-4 input.sk-toggleable__control:checked~div.sk-toggleable__content {\n",
              "  /* Expand drop-down */\n",
              "  max-height: 200px;\n",
              "  max-width: 100%;\n",
              "  overflow: auto;\n",
              "}\n",
              "\n",
              "#sk-container-id-4 input.sk-toggleable__control:checked~label.sk-toggleable__label-arrow:before {\n",
              "  content: \"▾\";\n",
              "}\n",
              "\n",
              "/* Pipeline/ColumnTransformer-specific style */\n",
              "\n",
              "#sk-container-id-4 div.sk-label input.sk-toggleable__control:checked~label.sk-toggleable__label {\n",
              "  color: var(--sklearn-color-text);\n",
              "  background-color: var(--sklearn-color-unfitted-level-2);\n",
              "}\n",
              "\n",
              "#sk-container-id-4 div.sk-label.fitted input.sk-toggleable__control:checked~label.sk-toggleable__label {\n",
              "  background-color: var(--sklearn-color-fitted-level-2);\n",
              "}\n",
              "\n",
              "/* Estimator-specific style */\n",
              "\n",
              "/* Colorize estimator box */\n",
              "#sk-container-id-4 div.sk-estimator input.sk-toggleable__control:checked~label.sk-toggleable__label {\n",
              "  /* unfitted */\n",
              "  background-color: var(--sklearn-color-unfitted-level-2);\n",
              "}\n",
              "\n",
              "#sk-container-id-4 div.sk-estimator.fitted input.sk-toggleable__control:checked~label.sk-toggleable__label {\n",
              "  /* fitted */\n",
              "  background-color: var(--sklearn-color-fitted-level-2);\n",
              "}\n",
              "\n",
              "#sk-container-id-4 div.sk-label label.sk-toggleable__label,\n",
              "#sk-container-id-4 div.sk-label label {\n",
              "  /* The background is the default theme color */\n",
              "  color: var(--sklearn-color-text-on-default-background);\n",
              "}\n",
              "\n",
              "/* On hover, darken the color of the background */\n",
              "#sk-container-id-4 div.sk-label:hover label.sk-toggleable__label {\n",
              "  color: var(--sklearn-color-text);\n",
              "  background-color: var(--sklearn-color-unfitted-level-2);\n",
              "}\n",
              "\n",
              "/* Label box, darken color on hover, fitted */\n",
              "#sk-container-id-4 div.sk-label.fitted:hover label.sk-toggleable__label.fitted {\n",
              "  color: var(--sklearn-color-text);\n",
              "  background-color: var(--sklearn-color-fitted-level-2);\n",
              "}\n",
              "\n",
              "/* Estimator label */\n",
              "\n",
              "#sk-container-id-4 div.sk-label label {\n",
              "  font-family: monospace;\n",
              "  font-weight: bold;\n",
              "  display: inline-block;\n",
              "  line-height: 1.2em;\n",
              "}\n",
              "\n",
              "#sk-container-id-4 div.sk-label-container {\n",
              "  text-align: center;\n",
              "}\n",
              "\n",
              "/* Estimator-specific */\n",
              "#sk-container-id-4 div.sk-estimator {\n",
              "  font-family: monospace;\n",
              "  border: 1px dotted var(--sklearn-color-border-box);\n",
              "  border-radius: 0.25em;\n",
              "  box-sizing: border-box;\n",
              "  margin-bottom: 0.5em;\n",
              "  /* unfitted */\n",
              "  background-color: var(--sklearn-color-unfitted-level-0);\n",
              "}\n",
              "\n",
              "#sk-container-id-4 div.sk-estimator.fitted {\n",
              "  /* fitted */\n",
              "  background-color: var(--sklearn-color-fitted-level-0);\n",
              "}\n",
              "\n",
              "/* on hover */\n",
              "#sk-container-id-4 div.sk-estimator:hover {\n",
              "  /* unfitted */\n",
              "  background-color: var(--sklearn-color-unfitted-level-2);\n",
              "}\n",
              "\n",
              "#sk-container-id-4 div.sk-estimator.fitted:hover {\n",
              "  /* fitted */\n",
              "  background-color: var(--sklearn-color-fitted-level-2);\n",
              "}\n",
              "\n",
              "/* Specification for estimator info (e.g. \"i\" and \"?\") */\n",
              "\n",
              "/* Common style for \"i\" and \"?\" */\n",
              "\n",
              ".sk-estimator-doc-link,\n",
              "a:link.sk-estimator-doc-link,\n",
              "a:visited.sk-estimator-doc-link {\n",
              "  float: right;\n",
              "  font-size: smaller;\n",
              "  line-height: 1em;\n",
              "  font-family: monospace;\n",
              "  background-color: var(--sklearn-color-background);\n",
              "  border-radius: 1em;\n",
              "  height: 1em;\n",
              "  width: 1em;\n",
              "  text-decoration: none !important;\n",
              "  margin-left: 1ex;\n",
              "  /* unfitted */\n",
              "  border: var(--sklearn-color-unfitted-level-1) 1pt solid;\n",
              "  color: var(--sklearn-color-unfitted-level-1);\n",
              "}\n",
              "\n",
              ".sk-estimator-doc-link.fitted,\n",
              "a:link.sk-estimator-doc-link.fitted,\n",
              "a:visited.sk-estimator-doc-link.fitted {\n",
              "  /* fitted */\n",
              "  border: var(--sklearn-color-fitted-level-1) 1pt solid;\n",
              "  color: var(--sklearn-color-fitted-level-1);\n",
              "}\n",
              "\n",
              "/* On hover */\n",
              "div.sk-estimator:hover .sk-estimator-doc-link:hover,\n",
              ".sk-estimator-doc-link:hover,\n",
              "div.sk-label-container:hover .sk-estimator-doc-link:hover,\n",
              ".sk-estimator-doc-link:hover {\n",
              "  /* unfitted */\n",
              "  background-color: var(--sklearn-color-unfitted-level-3);\n",
              "  color: var(--sklearn-color-background);\n",
              "  text-decoration: none;\n",
              "}\n",
              "\n",
              "div.sk-estimator.fitted:hover .sk-estimator-doc-link.fitted:hover,\n",
              ".sk-estimator-doc-link.fitted:hover,\n",
              "div.sk-label-container:hover .sk-estimator-doc-link.fitted:hover,\n",
              ".sk-estimator-doc-link.fitted:hover {\n",
              "  /* fitted */\n",
              "  background-color: var(--sklearn-color-fitted-level-3);\n",
              "  color: var(--sklearn-color-background);\n",
              "  text-decoration: none;\n",
              "}\n",
              "\n",
              "/* Span, style for the box shown on hovering the info icon */\n",
              ".sk-estimator-doc-link span {\n",
              "  display: none;\n",
              "  z-index: 9999;\n",
              "  position: relative;\n",
              "  font-weight: normal;\n",
              "  right: .2ex;\n",
              "  padding: .5ex;\n",
              "  margin: .5ex;\n",
              "  width: min-content;\n",
              "  min-width: 20ex;\n",
              "  max-width: 50ex;\n",
              "  color: var(--sklearn-color-text);\n",
              "  box-shadow: 2pt 2pt 4pt #999;\n",
              "  /* unfitted */\n",
              "  background: var(--sklearn-color-unfitted-level-0);\n",
              "  border: .5pt solid var(--sklearn-color-unfitted-level-3);\n",
              "}\n",
              "\n",
              ".sk-estimator-doc-link.fitted span {\n",
              "  /* fitted */\n",
              "  background: var(--sklearn-color-fitted-level-0);\n",
              "  border: var(--sklearn-color-fitted-level-3);\n",
              "}\n",
              "\n",
              ".sk-estimator-doc-link:hover span {\n",
              "  display: block;\n",
              "}\n",
              "\n",
              "/* \"?\"-specific style due to the `<a>` HTML tag */\n",
              "\n",
              "#sk-container-id-4 a.estimator_doc_link {\n",
              "  float: right;\n",
              "  font-size: 1rem;\n",
              "  line-height: 1em;\n",
              "  font-family: monospace;\n",
              "  background-color: var(--sklearn-color-background);\n",
              "  border-radius: 1rem;\n",
              "  height: 1rem;\n",
              "  width: 1rem;\n",
              "  text-decoration: none;\n",
              "  /* unfitted */\n",
              "  color: var(--sklearn-color-unfitted-level-1);\n",
              "  border: var(--sklearn-color-unfitted-level-1) 1pt solid;\n",
              "}\n",
              "\n",
              "#sk-container-id-4 a.estimator_doc_link.fitted {\n",
              "  /* fitted */\n",
              "  border: var(--sklearn-color-fitted-level-1) 1pt solid;\n",
              "  color: var(--sklearn-color-fitted-level-1);\n",
              "}\n",
              "\n",
              "/* On hover */\n",
              "#sk-container-id-4 a.estimator_doc_link:hover {\n",
              "  /* unfitted */\n",
              "  background-color: var(--sklearn-color-unfitted-level-3);\n",
              "  color: var(--sklearn-color-background);\n",
              "  text-decoration: none;\n",
              "}\n",
              "\n",
              "#sk-container-id-4 a.estimator_doc_link.fitted:hover {\n",
              "  /* fitted */\n",
              "  background-color: var(--sklearn-color-fitted-level-3);\n",
              "}\n",
              "</style><div id=\"sk-container-id-4\" class=\"sk-top-container\"><div class=\"sk-text-repr-fallback\"><pre>LogisticRegression()</pre><b>In a Jupyter environment, please rerun this cell to show the HTML representation or trust the notebook. <br />On GitHub, the HTML representation is unable to render, please try loading this page with nbviewer.org.</b></div><div class=\"sk-container\" hidden><div class=\"sk-item\"><div class=\"sk-estimator fitted sk-toggleable\"><input class=\"sk-toggleable__control sk-hidden--visually\" id=\"sk-estimator-id-4\" type=\"checkbox\" checked><label for=\"sk-estimator-id-4\" class=\"sk-toggleable__label fitted sk-toggleable__label-arrow fitted\">&nbsp;&nbsp;LogisticRegression<a class=\"sk-estimator-doc-link fitted\" rel=\"noreferrer\" target=\"_blank\" href=\"https://scikit-learn.org/1.5/modules/generated/sklearn.linear_model.LogisticRegression.html\">?<span>Documentation for LogisticRegression</span></a><span class=\"sk-estimator-doc-link fitted\">i<span>Fitted</span></span></label><div class=\"sk-toggleable__content fitted\"><pre>LogisticRegression()</pre></div> </div></div></div></div>"
            ]
          },
          "metadata": {},
          "execution_count": 59
        }
      ]
    },
    {
      "cell_type": "code",
      "source": [
        "# prediction with logistic regression\n",
        "\n",
        "y_pred_logistic = logistic_model.predict(X_test)\n",
        "# Calculate accuracy\n",
        "accuracy = accuracy_score(y_test, y_pred_logistic)\n",
        "print(f'Accuracy: {accuracy * 100:.2f}%')"
      ],
      "metadata": {
        "colab": {
          "base_uri": "https://localhost:8080/"
        },
        "id": "eO_HTX_31G4D",
        "outputId": "6a9a757f-736c-4b45-e968-00a737ddea47"
      },
      "id": "eO_HTX_31G4D",
      "execution_count": 68,
      "outputs": [
        {
          "output_type": "stream",
          "name": "stdout",
          "text": [
            "Accuracy: 98.78%\n"
          ]
        }
      ]
    },
    {
      "cell_type": "code",
      "source": [
        "# plot roc auc curve\n",
        "\n",
        "test_model(logistic_model, X_test, y_test)"
      ],
      "metadata": {
        "colab": {
          "base_uri": "https://localhost:8080/",
          "height": 559
        },
        "id": "jhQhKbSzIMaY",
        "outputId": "a5ec3425-49ac-4f00-e46d-6fd7714dc7cd"
      },
      "id": "jhQhKbSzIMaY",
      "execution_count": 62,
      "outputs": [
        {
          "output_type": "stream",
          "name": "stdout",
          "text": [
            "Accuracy: 0.99\n",
            "Precision: 0.99\n",
            "Recall: 0.99\n",
            "F1-score: 0.99\n",
            "ROC AUC: 0.99\n"
          ]
        },
        {
          "output_type": "display_data",
          "data": {
            "text/plain": [
              "<Figure size 640x480 with 1 Axes>"
            ],
            "image/png": "[encoded data removed]"
          },
          "metadata": {}
        }
      ]
    },
    {
      "cell_type": "code",
      "source": [
        "# confusion matrix\n",
        "\n",
        "cm_logistic = confusion_matrix(y_test, y_pred_logistic)\n",
        "sns.heatmap(cm_logistic, annot=True, fmt='d')\n",
        "plt.xlabel('Predicted')\n",
        "plt.ylabel('Actual')\n",
        "plt.title('Confusion Matrix')\n",
        "plt.show()"
      ],
      "metadata": {
        "colab": {
          "base_uri": "https://localhost:8080/",
          "height": 472
        },
        "id": "_rKpMrrCIuzQ",
        "outputId": "8a8bd3d7-04fc-4e9a-c3ac-157200c858ae"
      },
      "id": "_rKpMrrCIuzQ",
      "execution_count": 67,
      "outputs": [
        {
          "output_type": "display_data",
          "data": {
            "text/plain": [
              "<Figure size 640x480 with 2 Axes>"
            ],
            "image/png": "[encoded data removed]"
          },
          "metadata": {}
        }
      ]
    },
    {
      "cell_type": "markdown",
      "source": [
        "#### **Very high accuracy on test data (Held-out) test set**"
      ],
      "metadata": {
        "id": "V3h1a7CcIFKD"
      },
      "id": "V3h1a7CcIFKD"
    },
    {
      "cell_type": "code",
      "source": [
        "y_pred_train = logistic_model.predict(X_train)\n",
        "\n",
        "# Calculate accuracy\n",
        "accuracy = accuracy_score(y_train, y_pred_train)\n",
        "print(f'Accuracy: {accuracy * 100:.2f}%')"
      ],
      "metadata": {
        "colab": {
          "base_uri": "https://localhost:8080/"
        },
        "id": "EhSvxlbd1Oh0",
        "outputId": "e350699c-197a-44ee-e3ed-a8de67367049"
      },
      "id": "EhSvxlbd1Oh0",
      "execution_count": null,
      "outputs": [
        {
          "output_type": "stream",
          "name": "stdout",
          "text": [
            "Accuracy: 100.00%\n"
          ]
        }
      ]
    },
    {
      "cell_type": "markdown",
      "source": [
        "#### **100% accuracy on train set with logistic regression**"
      ],
      "metadata": {
        "id": "rtpeFfH2IOjF"
      },
      "id": "rtpeFfH2IOjF"
    },
    {
      "cell_type": "code",
      "source": [
        "# train logistic regression with title\n",
        "\n",
        "logistic_model_title = LogisticRegression()\n",
        "logistic_model_title.fit(X_train_title, y_train_title)\n",
        "\n"
      ],
      "metadata": {
        "colab": {
          "base_uri": "https://localhost:8080/",
          "height": 80
        },
        "id": "N35E4nx11z2-",
        "outputId": "177fe151-22be-445b-d12c-476db6a11f9c"
      },
      "id": "N35E4nx11z2-",
      "execution_count": 39,
      "outputs": [
        {
          "output_type": "execute_result",
          "data": {
            "text/plain": [
              "LogisticRegression()"
            ],
            "text/html": [
              "<style>#sk-container-id-3 {\n",
              "  /* Definition of color scheme common for light and dark mode */\n",
              "  --sklearn-color-text: black;\n",
              "  --sklearn-color-line: gray;\n",
              "  /* Definition of color scheme for unfitted estimators */\n",
              "  --sklearn-color-unfitted-level-0: #fff5e6;\n",
              "  --sklearn-color-unfitted-level-1: #f6e4d2;\n",
              "  --sklearn-color-unfitted-level-2: #ffe0b3;\n",
              "  --sklearn-color-unfitted-level-3: chocolate;\n",
              "  /* Definition of color scheme for fitted estimators */\n",
              "  --sklearn-color-fitted-level-0: #f0f8ff;\n",
              "  --sklearn-color-fitted-level-1: #d4ebff;\n",
              "  --sklearn-color-fitted-level-2: #b3dbfd;\n",
              "  --sklearn-color-fitted-level-3: cornflowerblue;\n",
              "\n",
              "  /* Specific color for light theme */\n",
              "  --sklearn-color-text-on-default-background: var(--sg-text-color, var(--theme-code-foreground, var(--jp-content-font-color1, black)));\n",
              "  --sklearn-color-background: var(--sg-background-color, var(--theme-background, var(--jp-layout-color0, white)));\n",
              "  --sklearn-color-border-box: var(--sg-text-color, var(--theme-code-foreground, var(--jp-content-font-color1, black)));\n",
              "  --sklearn-color-icon: #696969;\n",
              "\n",
              "  @media (prefers-color-scheme: dark) {\n",
              "    /* Redefinition of color scheme for dark theme */\n",
              "    --sklearn-color-text-on-default-background: var(--sg-text-color, var(--theme-code-foreground, var(--jp-content-font-color1, white)));\n",
              "    --sklearn-color-background: var(--sg-background-color, var(--theme-background, var(--jp-layout-color0, #111)));\n",
              "    --sklearn-color-border-box: var(--sg-text-color, var(--theme-code-foreground, var(--jp-content-font-color1, white)));\n",
              "    --sklearn-color-icon: #878787;\n",
              "  }\n",
              "}\n",
              "\n",
              "#sk-container-id-3 {\n",
              "  color: var(--sklearn-color-text);\n",
              "}\n",
              "\n",
              "#sk-container-id-3 pre {\n",
              "  padding: 0;\n",
              "}\n",
              "\n",
              "#sk-container-id-3 input.sk-hidden--visually {\n",
              "  border: 0;\n",
              "  clip: rect(1px 1px 1px 1px);\n",
              "  clip: rect(1px, 1px, 1px, 1px);\n",
              "  height: 1px;\n",
              "  margin: -1px;\n",
              "  overflow: hidden;\n",
              "  padding: 0;\n",
              "  position: absolute;\n",
              "  width: 1px;\n",
              "}\n",
              "\n",
              "#sk-container-id-3 div.sk-dashed-wrapped {\n",
              "  border: 1px dashed var(--sklearn-color-line);\n",
              "  margin: 0 0.4em 0.5em 0.4em;\n",
              "  box-sizing: border-box;\n",
              "  padding-bottom: 0.4em;\n",
              "  background-color: var(--sklearn-color-background);\n",
              "}\n",
              "\n",
              "#sk-container-id-3 div.sk-container {\n",
              "  /* jupyter's `normalize.less` sets `[hidden] { display: none; }`\n",
              "     but bootstrap.min.css set `[hidden] { display: none !important; }`\n",
              "     so we also need the `!important` here to be able to override the\n",
              "     default hidden behavior on the sphinx rendered scikit-learn.org.\n",
              "     See: https://github.com/scikit-learn/scikit-learn/issues/21755 */\n",
              "  display: inline-block !important;\n",
              "  position: relative;\n",
              "}\n",
              "\n",
              "#sk-container-id-3 div.sk-text-repr-fallback {\n",
              "  display: none;\n",
              "}\n",
              "\n",
              "div.sk-parallel-item,\n",
              "div.sk-serial,\n",
              "div.sk-item {\n",
              "  /* draw centered vertical line to link estimators */\n",
              "  background-image: linear-gradient(var(--sklearn-color-text-on-default-background), var(--sklearn-color-text-on-default-background));\n",
              "  background-size: 2px 100%;\n",
              "  background-repeat: no-repeat;\n",
              "  background-position: center center;\n",
              "}\n",
              "\n",
              "/* Parallel-specific style estimator block */\n",
              "\n",
              "#sk-container-id-3 div.sk-parallel-item::after {\n",
              "  content: \"\";\n",
              "  width: 100%;\n",
              "  border-bottom: 2px solid var(--sklearn-color-text-on-default-background);\n",
              "  flex-grow: 1;\n",
              "}\n",
              "\n",
              "#sk-container-id-3 div.sk-parallel {\n",
              "  display: flex;\n",
              "  align-items: stretch;\n",
              "  justify-content: center;\n",
              "  background-color: var(--sklearn-color-background);\n",
              "  position: relative;\n",
              "}\n",
              "\n",
              "#sk-container-id-3 div.sk-parallel-item {\n",
              "  display: flex;\n",
              "  flex-direction: column;\n",
              "}\n",
              "\n",
              "#sk-container-id-3 div.sk-parallel-item:first-child::after {\n",
              "  align-self: flex-end;\n",
              "  width: 50%;\n",
              "}\n",
              "\n",
              "#sk-container-id-3 div.sk-parallel-item:last-child::after {\n",
              "  align-self: flex-start;\n",
              "  width: 50%;\n",
              "}\n",
              "\n",
              "#sk-container-id-3 div.sk-parallel-item:only-child::after {\n",
              "  width: 0;\n",
              "}\n",
              "\n",
              "/* Serial-specific style estimator block */\n",
              "\n",
              "#sk-container-id-3 div.sk-serial {\n",
              "  display: flex;\n",
              "  flex-direction: column;\n",
              "  align-items: center;\n",
              "  background-color: var(--sklearn-color-background);\n",
              "  padding-right: 1em;\n",
              "  padding-left: 1em;\n",
              "}\n",
              "\n",
              "\n",
              "/* Toggleable style: style used for estimator/Pipeline/ColumnTransformer box that is\n",
              "clickable and can be expanded/collapsed.\n",
              "- Pipeline and ColumnTransformer use this feature and define the default style\n",
              "- Estimators will overwrite some part of the style using the `sk-estimator` class\n",
              "*/\n",
              "\n",
              "/* Pipeline and ColumnTransformer style (default) */\n",
              "\n",
              "#sk-container-id-3 div.sk-toggleable {\n",
              "  /* Default theme specific background. It is overwritten whether we have a\n",
              "  specific estimator or a Pipeline/ColumnTransformer */\n",
              "  background-color: var(--sklearn-color-background);\n",
              "}\n",
              "\n",
              "/* Toggleable label */\n",
              "#sk-container-id-3 label.sk-toggleable__label {\n",
              "  cursor: pointer;\n",
              "  display: block;\n",
              "  width: 100%;\n",
              "  margin-bottom: 0;\n",
              "  padding: 0.5em;\n",
              "  box-sizing: border-box;\n",
              "  text-align: center;\n",
              "}\n",
              "\n",
              "#sk-container-id-3 label.sk-toggleable__label-arrow:before {\n",
              "  /* Arrow on the left of the label */\n",
              "  content: \"▸\";\n",
              "  float: left;\n",
              "  margin-right: 0.25em;\n",
              "  color: var(--sklearn-color-icon);\n",
              "}\n",
              "\n",
              "#sk-container-id-3 label.sk-toggleable__label-arrow:hover:before {\n",
              "  color: var(--sklearn-color-text);\n",
              "}\n",
              "\n",
              "/* Toggleable content - dropdown */\n",
              "\n",
              "#sk-container-id-3 div.sk-toggleable__content {\n",
              "  max-height: 0;\n",
              "  max-width: 0;\n",
              "  overflow: hidden;\n",
              "  text-align: left;\n",
              "  /* unfitted */\n",
              "  background-color: var(--sklearn-color-unfitted-level-0);\n",
              "}\n",
              "\n",
              "#sk-container-id-3 div.sk-toggleable__content.fitted {\n",
              "  /* fitted */\n",
              "  background-color: var(--sklearn-color-fitted-level-0);\n",
              "}\n",
              "\n",
              "#sk-container-id-3 div.sk-toggleable__content pre {\n",
              "  margin: 0.2em;\n",
              "  border-radius: 0.25em;\n",
              "  color: var(--sklearn-color-text);\n",
              "  /* unfitted */\n",
              "  background-color: var(--sklearn-color-unfitted-level-0);\n",
              "}\n",
              "\n",
              "#sk-container-id-3 div.sk-toggleable__content.fitted pre {\n",
              "  /* unfitted */\n",
              "  background-color: var(--sklearn-color-fitted-level-0);\n",
              "}\n",
              "\n",
              "#sk-container-id-3 input.sk-toggleable__control:checked~div.sk-toggleable__content {\n",
              "  /* Expand drop-down */\n",
              "  max-height: 200px;\n",
              "  max-width: 100%;\n",
              "  overflow: auto;\n",
              "}\n",
              "\n",
              "#sk-container-id-3 input.sk-toggleable__control:checked~label.sk-toggleable__label-arrow:before {\n",
              "  content: \"▾\";\n",
              "}\n",
              "\n",
              "/* Pipeline/ColumnTransformer-specific style */\n",
              "\n",
              "#sk-container-id-3 div.sk-label input.sk-toggleable__control:checked~label.sk-toggleable__label {\n",
              "  color: var(--sklearn-color-text);\n",
              "  background-color: var(--sklearn-color-unfitted-level-2);\n",
              "}\n",
              "\n",
              "#sk-container-id-3 div.sk-label.fitted input.sk-toggleable__control:checked~label.sk-toggleable__label {\n",
              "  background-color: var(--sklearn-color-fitted-level-2);\n",
              "}\n",
              "\n",
              "/* Estimator-specific style */\n",
              "\n",
              "/* Colorize estimator box */\n",
              "#sk-container-id-3 div.sk-estimator input.sk-toggleable__control:checked~label.sk-toggleable__label {\n",
              "  /* unfitted */\n",
              "  background-color: var(--sklearn-color-unfitted-level-2);\n",
              "}\n",
              "\n",
              "#sk-container-id-3 div.sk-estimator.fitted input.sk-toggleable__control:checked~label.sk-toggleable__label {\n",
              "  /* fitted */\n",
              "  background-color: var(--sklearn-color-fitted-level-2);\n",
              "}\n",
              "\n",
              "#sk-container-id-3 div.sk-label label.sk-toggleable__label,\n",
              "#sk-container-id-3 div.sk-label label {\n",
              "  /* The background is the default theme color */\n",
              "  color: var(--sklearn-color-text-on-default-background);\n",
              "}\n",
              "\n",
              "/* On hover, darken the color of the background */\n",
              "#sk-container-id-3 div.sk-label:hover label.sk-toggleable__label {\n",
              "  color: var(--sklearn-color-text);\n",
              "  background-color: var(--sklearn-color-unfitted-level-2);\n",
              "}\n",
              "\n",
              "/* Label box, darken color on hover, fitted */\n",
              "#sk-container-id-3 div.sk-label.fitted:hover label.sk-toggleable__label.fitted {\n",
              "  color: var(--sklearn-color-text);\n",
              "  background-color: var(--sklearn-color-fitted-level-2);\n",
              "}\n",
              "\n",
              "/* Estimator label */\n",
              "\n",
              "#sk-container-id-3 div.sk-label label {\n",
              "  font-family: monospace;\n",
              "  font-weight: bold;\n",
              "  display: inline-block;\n",
              "  line-height: 1.2em;\n",
              "}\n",
              "\n",
              "#sk-container-id-3 div.sk-label-container {\n",
              "  text-align: center;\n",
              "}\n",
              "\n",
              "/* Estimator-specific */\n",
              "#sk-container-id-3 div.sk-estimator {\n",
              "  font-family: monospace;\n",
              "  border: 1px dotted var(--sklearn-color-border-box);\n",
              "  border-radius: 0.25em;\n",
              "  box-sizing: border-box;\n",
              "  margin-bottom: 0.5em;\n",
              "  /* unfitted */\n",
              "  background-color: var(--sklearn-color-unfitted-level-0);\n",
              "}\n",
              "\n",
              "#sk-container-id-3 div.sk-estimator.fitted {\n",
              "  /* fitted */\n",
              "  background-color: var(--sklearn-color-fitted-level-0);\n",
              "}\n",
              "\n",
              "/* on hover */\n",
              "#sk-container-id-3 div.sk-estimator:hover {\n",
              "  /* unfitted */\n",
              "  background-color: var(--sklearn-color-unfitted-level-2);\n",
              "}\n",
              "\n",
              "#sk-container-id-3 div.sk-estimator.fitted:hover {\n",
              "  /* fitted */\n",
              "  background-color: var(--sklearn-color-fitted-level-2);\n",
              "}\n",
              "\n",
              "/* Specification for estimator info (e.g. \"i\" and \"?\") */\n",
              "\n",
              "/* Common style for \"i\" and \"?\" */\n",
              "\n",
              ".sk-estimator-doc-link,\n",
              "a:link.sk-estimator-doc-link,\n",
              "a:visited.sk-estimator-doc-link {\n",
              "  float: right;\n",
              "  font-size: smaller;\n",
              "  line-height: 1em;\n",
              "  font-family: monospace;\n",
              "  background-color: var(--sklearn-color-background);\n",
              "  border-radius: 1em;\n",
              "  height: 1em;\n",
              "  width: 1em;\n",
              "  text-decoration: none !important;\n",
              "  margin-left: 1ex;\n",
              "  /* unfitted */\n",
              "  border: var(--sklearn-color-unfitted-level-1) 1pt solid;\n",
              "  color: var(--sklearn-color-unfitted-level-1);\n",
              "}\n",
              "\n",
              ".sk-estimator-doc-link.fitted,\n",
              "a:link.sk-estimator-doc-link.fitted,\n",
              "a:visited.sk-estimator-doc-link.fitted {\n",
              "  /* fitted */\n",
              "  border: var(--sklearn-color-fitted-level-1) 1pt solid;\n",
              "  color: var(--sklearn-color-fitted-level-1);\n",
              "}\n",
              "\n",
              "/* On hover */\n",
              "div.sk-estimator:hover .sk-estimator-doc-link:hover,\n",
              ".sk-estimator-doc-link:hover,\n",
              "div.sk-label-container:hover .sk-estimator-doc-link:hover,\n",
              ".sk-estimator-doc-link:hover {\n",
              "  /* unfitted */\n",
              "  background-color: var(--sklearn-color-unfitted-level-3);\n",
              "  color: var(--sklearn-color-background);\n",
              "  text-decoration: none;\n",
              "}\n",
              "\n",
              "div.sk-estimator.fitted:hover .sk-estimator-doc-link.fitted:hover,\n",
              ".sk-estimator-doc-link.fitted:hover,\n",
              "div.sk-label-container:hover .sk-estimator-doc-link.fitted:hover,\n",
              ".sk-estimator-doc-link.fitted:hover {\n",
              "  /* fitted */\n",
              "  background-color: var(--sklearn-color-fitted-level-3);\n",
              "  color: var(--sklearn-color-background);\n",
              "  text-decoration: none;\n",
              "}\n",
              "\n",
              "/* Span, style for the box shown on hovering the info icon */\n",
              ".sk-estimator-doc-link span {\n",
              "  display: none;\n",
              "  z-index: 9999;\n",
              "  position: relative;\n",
              "  font-weight: normal;\n",
              "  right: .2ex;\n",
              "  padding: .5ex;\n",
              "  margin: .5ex;\n",
              "  width: min-content;\n",
              "  min-width: 20ex;\n",
              "  max-width: 50ex;\n",
              "  color: var(--sklearn-color-text);\n",
              "  box-shadow: 2pt 2pt 4pt #999;\n",
              "  /* unfitted */\n",
              "  background: var(--sklearn-color-unfitted-level-0);\n",
              "  border: .5pt solid var(--sklearn-color-unfitted-level-3);\n",
              "}\n",
              "\n",
              ".sk-estimator-doc-link.fitted span {\n",
              "  /* fitted */\n",
              "  background: var(--sklearn-color-fitted-level-0);\n",
              "  border: var(--sklearn-color-fitted-level-3);\n",
              "}\n",
              "\n",
              ".sk-estimator-doc-link:hover span {\n",
              "  display: block;\n",
              "}\n",
              "\n",
              "/* \"?\"-specific style due to the `<a>` HTML tag */\n",
              "\n",
              "#sk-container-id-3 a.estimator_doc_link {\n",
              "  float: right;\n",
              "  font-size: 1rem;\n",
              "  line-height: 1em;\n",
              "  font-family: monospace;\n",
              "  background-color: var(--sklearn-color-background);\n",
              "  border-radius: 1rem;\n",
              "  height: 1rem;\n",
              "  width: 1rem;\n",
              "  text-decoration: none;\n",
              "  /* unfitted */\n",
              "  color: var(--sklearn-color-unfitted-level-1);\n",
              "  border: var(--sklearn-color-unfitted-level-1) 1pt solid;\n",
              "}\n",
              "\n",
              "#sk-container-id-3 a.estimator_doc_link.fitted {\n",
              "  /* fitted */\n",
              "  border: var(--sklearn-color-fitted-level-1) 1pt solid;\n",
              "  color: var(--sklearn-color-fitted-level-1);\n",
              "}\n",
              "\n",
              "/* On hover */\n",
              "#sk-container-id-3 a.estimator_doc_link:hover {\n",
              "  /* unfitted */\n",
              "  background-color: var(--sklearn-color-unfitted-level-3);\n",
              "  color: var(--sklearn-color-background);\n",
              "  text-decoration: none;\n",
              "}\n",
              "\n",
              "#sk-container-id-3 a.estimator_doc_link.fitted:hover {\n",
              "  /* fitted */\n",
              "  background-color: var(--sklearn-color-fitted-level-3);\n",
              "}\n",
              "</style><div id=\"sk-container-id-3\" class=\"sk-top-container\"><div class=\"sk-text-repr-fallback\"><pre>LogisticRegression()</pre><b>In a Jupyter environment, please rerun this cell to show the HTML representation or trust the notebook. <br />On GitHub, the HTML representation is unable to render, please try loading this page with nbviewer.org.</b></div><div class=\"sk-container\" hidden><div class=\"sk-item\"><div class=\"sk-estimator fitted sk-toggleable\"><input class=\"sk-toggleable__control sk-hidden--visually\" id=\"sk-estimator-id-3\" type=\"checkbox\" checked><label for=\"sk-estimator-id-3\" class=\"sk-toggleable__label fitted sk-toggleable__label-arrow fitted\">&nbsp;&nbsp;LogisticRegression<a class=\"sk-estimator-doc-link fitted\" rel=\"noreferrer\" target=\"_blank\" href=\"https://scikit-learn.org/1.5/modules/generated/sklearn.linear_model.LogisticRegression.html\">?<span>Documentation for LogisticRegression</span></a><span class=\"sk-estimator-doc-link fitted\">i<span>Fitted</span></span></label><div class=\"sk-toggleable__content fitted\"><pre>LogisticRegression()</pre></div> </div></div></div></div>"
            ]
          },
          "metadata": {},
          "execution_count": 39
        }
      ]
    },
    {
      "cell_type": "code",
      "source": [
        "# checking what happens with title with logistic regression\n",
        "y_pred_logistic_title = logistic_model_title.predict(X_test_title)\n",
        "\n",
        "accuracy_title = accuracy_score(y_test_title, y_pred_logistic_title)\n",
        "print(f'Accuracy: {accuracy_title * 100:.2f}%')"
      ],
      "metadata": {
        "colab": {
          "base_uri": "https://localhost:8080/"
        },
        "id": "6CueNSso3A8m",
        "outputId": "ee9e4b1f-94bb-4666-f375-0a5839064def"
      },
      "id": "6CueNSso3A8m",
      "execution_count": 40,
      "outputs": [
        {
          "output_type": "stream",
          "name": "stdout",
          "text": [
            "Accuracy: 98.64%\n"
          ]
        }
      ]
    },
    {
      "cell_type": "markdown",
      "source": [
        "### **Better than Naive Bayesian classifier**"
      ],
      "metadata": {
        "id": "mdy-Y6tmIcVp"
      },
      "id": "mdy-Y6tmIcVp"
    },
    {
      "cell_type": "code",
      "source": [
        "# Checking on the train set of title\n",
        "y_pred_train_title = logistic_model_title.predict(X_train_title)\n",
        "\n",
        "accuracy_train_title = accuracy_score(y_train_title, y_pred_train_title)\n",
        "print(f'Accuracy: {accuracy_train_title * 100:.2f}%')"
      ],
      "metadata": {
        "colab": {
          "base_uri": "https://localhost:8080/"
        },
        "id": "IANfjq1R3DGe",
        "outputId": "231ddd01-d06b-41f5-ffc6-7f2e2085b87c"
      },
      "id": "IANfjq1R3DGe",
      "execution_count": 41,
      "outputs": [
        {
          "output_type": "stream",
          "name": "stdout",
          "text": [
            "Accuracy: 99.71%\n"
          ]
        }
      ]
    },
    {
      "cell_type": "code",
      "source": [
        "# Applying 5-fold cross-validation to evaluate the performance of the model\n",
        "\n",
        "from sklearn.model_selection import cross_val_score, cross_val_predict\n",
        "\n",
        "kfold_model = LogisticRegression()\n",
        "\n",
        "# Perform 5-fold cross-validation\n",
        "scores = cross_val_score(kfold_model, X_test, y_test, cv=5)\n",
        "\n",
        "# Print the cross-validation scores\n",
        "print(\"Cross-validation scores:\", scores)"
      ],
      "metadata": {
        "colab": {
          "base_uri": "https://localhost:8080/"
        },
        "id": "4Q4l07ws3M4S",
        "outputId": "e597ae71-209e-4c2d-d649-8aa1d36ce6dd"
      },
      "id": "4Q4l07ws3M4S",
      "execution_count": 71,
      "outputs": [
        {
          "output_type": "stream",
          "name": "stdout",
          "text": [
            "Cross-validation scores: [0.96  0.965 0.969 0.968 0.952]\n"
          ]
        }
      ]
    },
    {
      "cell_type": "code",
      "source": [
        "# Evaluate the model using metrics such as accuracy, precision, recall, F1-score, ROC curve and ROC AUC.\n",
        "\n",
        "from sklearn.metrics import accuracy_score, precision_score, recall_score, f1_score, roc_auc_score, roc_curve\n",
        "import matplotlib.pyplot as plt\n",
        "\n",
        "y_pred_kfold = cross_val_predict(kfold_model, X_test, y_test, cv=5)\n",
        "\n",
        "accuracy = accuracy_score(y_test, y_pred_kfold)\n",
        "precision = precision_score(y_test, y_pred_kfold)\n",
        "recall = recall_score(y_test, y_pred_kfold)\n",
        "f1 = f1_score(y_test, y_pred_kfold)\n",
        "roc_auc = roc_auc_score(y_test, y_pred_kfold)\n",
        "\n",
        "print(f'Accuracy: {accuracy:.2f}')\n",
        "print(f'Precision: {precision:.2f}')\n",
        "print(f'Recall: {recall:.2f}')\n",
        "print(f'F1-score: {f1:.2f}')\n",
        "print(f'ROC AUC: {roc_auc:.2f}')\n",
        "\n",
        "# plot\n",
        "fpr, tpr, thresholds = roc_curve(y_test, y_pred_kfold)\n",
        "plt.plot(fpr, tpr, label=f'ROC curve (area = {roc_auc:.2f})')\n",
        "plt.plot([0, 1], [0, 1], 'k--')\n",
        "plt.xlabel('False Positive Rate')\n",
        "plt.ylabel('True Positive Rate')\n",
        "plt.title('Receiver Operating Characteristic (ROC) Curve')\n",
        "\n",
        "plt.legend()\n",
        "plt.show()\n"
      ],
      "metadata": {
        "colab": {
          "base_uri": "https://localhost:8080/",
          "height": 559
        },
        "id": "9TesIK5K3aaU",
        "outputId": "9115efcb-bef5-45f1-9e5e-132c15d04eda"
      },
      "id": "9TesIK5K3aaU",
      "execution_count": 72,
      "outputs": [
        {
          "output_type": "stream",
          "name": "stdout",
          "text": [
            "Accuracy: 0.96\n",
            "Precision: 0.97\n",
            "Recall: 0.95\n",
            "F1-score: 0.96\n",
            "ROC AUC: 0.96\n"
          ]
        },
        {
          "output_type": "display_data",
          "data": {
            "text/plain": [
              "<Figure size 640x480 with 1 Axes>"
            ],
            "image/png": "[encoded data removed]"
          },
          "metadata": {}
        }
      ]
    },
    {
      "cell_type": "code",
      "source": [
        "# classification report\n",
        "\n",
        "from sklearn.metrics import classification_report\n",
        "\n",
        "print(classification_report(y_test, y_pred_kfold))\n"
      ],
      "metadata": {
        "colab": {
          "base_uri": "https://localhost:8080/"
        },
        "id": "zOxh5IfKVVPu",
        "outputId": "e6d4e896-b786-46ae-fd5d-5c2599f6caba"
      },
      "id": "zOxh5IfKVVPu",
      "execution_count": 73,
      "outputs": [
        {
          "output_type": "stream",
          "name": "stdout",
          "text": [
            "              precision    recall  f1-score   support\n",
            "\n",
            "           0       0.95      0.97      0.96      2392\n",
            "           1       0.97      0.95      0.96      2608\n",
            "\n",
            "    accuracy                           0.96      5000\n",
            "   macro avg       0.96      0.96      0.96      5000\n",
            "weighted avg       0.96      0.96      0.96      5000\n",
            "\n"
          ]
        }
      ]
    },
    {
      "cell_type": "code",
      "source": [
        "# confusion matrix heatmap\n",
        "\n",
        "cm_kfold = confusion_matrix(y_test, y_pred_kfold)\n",
        "sns.heatmap(cm_kfold, annot=True, fmt='d')\n",
        "plt.xlabel('Predicted')\n",
        "plt.ylabel('Actual')\n",
        "plt.title('Confusion Matrix')\n",
        "plt.show()"
      ],
      "metadata": {
        "colab": {
          "base_uri": "https://localhost:8080/",
          "height": 472
        },
        "id": "Xnu4xRyp4A_N",
        "outputId": "74cd4355-a93a-47de-d6c6-15c5b745c0d8"
      },
      "id": "Xnu4xRyp4A_N",
      "execution_count": 54,
      "outputs": [
        {
          "output_type": "display_data",
          "data": {
            "text/plain": [
              "<Figure size 640x480 with 2 Axes>"
            ],
            "image/png": "[encoded data removed]"
          },
          "metadata": {}
        }
      ]
    },
    {
      "cell_type": "markdown",
      "source": [
        "# **--------------------  Task 4 ----------------------**"
      ],
      "metadata": {
        "id": "wAdsC3q-J7Sn"
      },
      "id": "wAdsC3q-J7Sn"
    },
    {
      "cell_type": "code",
      "source": [
        "'''Comparing the performance of the Naive Bayes and Logistic Regression classifiers'''\n",
        "\n",
        "y_pred_logistic = logistic_model.predict(X_test)\n",
        "y_pred_naive_bayes = model_with_kf.predict(X_test)\n",
        "\n",
        "accuracy_logistic = accuracy_score(y_test, y_pred_logistic)\n",
        "accuracy_naive_bayes = accuracy_score(y_test, y_pred_naive_bayes)\n",
        "\n",
        "print(f'Accuracy Logistic Regression: {accuracy_logistic * 100:.2f}%')\n",
        "print(f'Accuracy Naive Bayes: {accuracy_naive_bayes * 100:.2f}%')\n",
        "\n",
        "#ploting the roc curve\n",
        "fpr_logistic, tpr_logistic, thresholds_logistic = roc_curve(y_test, y_pred_logistic)\n",
        "fpr_naive_bayes, tpr_naive_bayes, thresholds_naive_bayes = roc_curve(y_test, y_pred_naive_bayes)\n",
        "\n",
        "plt.plot(fpr_logistic, tpr_logistic, label=f'Logistic Regression (area = {roc_auc_score(y_test, y_pred_logistic):.2f})')\n",
        "plt.plot(fpr_naive_bayes, tpr_naive_bayes, label=f'Naive Bayes (area = {roc_auc_score(y_test, y_pred_naive_bayes):.2f})')\n",
        "plt.plot([0, 1], [0, 1], 'k--')\n",
        "plt.xlabel('False Positive Rate')\n",
        "plt.ylabel('True Positive Rate')\n",
        "plt.title('Receiver Operating Characteristic (ROC) Curve')\n",
        "\n",
        "plt.legend()\n",
        "plt.show()"
      ],
      "metadata": {
        "colab": {
          "base_uri": "https://localhost:8080/",
          "height": 507
        },
        "id": "NAeDXhM95L75",
        "outputId": "f844471b-dee9-48a3-ec4e-e118a8821ac0"
      },
      "id": "NAeDXhM95L75",
      "execution_count": 55,
      "outputs": [
        {
          "output_type": "stream",
          "name": "stdout",
          "text": [
            "Accuracy Logistic Regression: 98.66%\n",
            "Accuracy Naive Bayes: 94.06%\n"
          ]
        },
        {
          "output_type": "display_data",
          "data": {
            "text/plain": [
              "<Figure size 640x480 with 1 Axes>"
            ],
            "image/png": "[encoded data removed]"
          },
          "metadata": {}
        }
      ]
    },
    {
      "cell_type": "code",
      "source": [
        "# extracting fake_news from X_train with y_test = 1 (fake news)\n",
        "fake_news_test = X_test[y_test == 1]\n",
        "\n",
        "# predict fake_news_test with logistic and naive bayes and comparing the results\n",
        "y_pred_logistic_fake_news = logistic_model.predict(fake_news_test)\n",
        "y_pred_naive_bayes_fake_news = model_with_kf.predict(fake_news_test)\n",
        "\n",
        "accuracy_logistic_fake_news = accuracy_score(y_test[y_test == 1], y_pred_logistic_fake_news)\n",
        "accuracy_naive_bayes_fake_news = accuracy_score(y_test[y_test == 1], y_pred_naive_bayes_fake_news)\n",
        "\n",
        "print(f'Accuracy Logistic Regression Fake News: {accuracy_logistic_fake_news * 100:.2f}%')\n",
        "print(f'Accuracy Naive Bayes Fake News: {accuracy_naive_bayes_fake_news * 100:.2f}%')\n",
        "\n",
        "# confusion matrix comparision between logistic model and naive bayes\n",
        "\n",
        "cm_logistic_fake_news = confusion_matrix(y_test[y_test == 1], y_pred_logistic_fake_news)\n",
        "cm_naive_bayes_fake_news = confusion_matrix(y_test[y_test == 1], y_pred_naive_bayes_fake_news)\n",
        "\n",
        "plt.figure(figsize=(8, 4))\n",
        "plt.suptitle('Confusion Matrix Comparison - Fake News')\n",
        "\n",
        "plt.subplot(1, 2, 1)\n",
        "sns.heatmap(cm_logistic_fake_news, annot=True, fmt='d', cmap='Blues', cbar=False)\n",
        "plt.title('Logistic Regression')\n",
        "plt.xlabel('Predicted')\n",
        "plt.ylabel('Actual')\n",
        "\n",
        "plt.subplot(1, 2, 2)\n",
        "sns.heatmap(cm_naive_bayes_fake_news, annot=True, fmt='d', cmap='Blues', cbar=False)\n",
        "plt.title('Naive Bayes')\n",
        "plt.xlabel('Predicted')\n",
        "plt.ylabel('Actual')\n",
        "\n",
        "plt.tight_layout()\n",
        "plt.show()"
      ],
      "metadata": {
        "colab": {
          "base_uri": "https://localhost:8080/",
          "height": 448
        },
        "id": "oqSU0MG-5xSC",
        "outputId": "b64b92e1-844a-4513-e143-3ae0999aadb8"
      },
      "id": "oqSU0MG-5xSC",
      "execution_count": 81,
      "outputs": [
        {
          "output_type": "stream",
          "name": "stdout",
          "text": [
            "Accuracy Logistic Regression Fake News: 99.12%\n",
            "Accuracy Naive Bayes Fake News: 95.40%\n"
          ]
        },
        {
          "output_type": "display_data",
          "data": {
            "text/plain": [
              "<Figure size 800x400 with 2 Axes>"
            ],
            "image/png": "[encoded data removed]"
          },
          "metadata": {}
        }
      ]
    },
    {
      "cell_type": "markdown",
      "source": [
        "# **--------------------  Task 5 ----------------------**"
      ],
      "metadata": {
        "id": "Xg4EQFDMKA72"
      },
      "id": "Xg4EQFDMKA72"
    },
    {
      "cell_type": "markdown",
      "source": [
        "## **Ensemble method using Voting Classifier on Naive Bayes and Logistic Regression**"
      ],
      "metadata": {
        "id": "lfywBn9kO0P7"
      },
      "id": "lfywBn9kO0P7"
    },
    {
      "cell_type": "code",
      "source": [
        "from sklearn.ensemble import VotingClassifier\n",
        "\n",
        "# Create a voting classifier\n",
        "voting_classifier = VotingClassifier(estimators=[\n",
        "    ('nb', model_with_kf),\n",
        "    ('lr', logistic_model)\n",
        "], voting='hard') # Use 'hard' voting\n",
        "\n",
        "# Train the voting classifier\n",
        "voting_classifier.fit(X_train, y_train)\n",
        "\n",
        "# Make predictions\n",
        "y_pred_ensemble = voting_classifier.predict(X_test)\n",
        "\n",
        "# Evaluate the ensemble\n",
        "accuracy_ensemble = accuracy_score(y_test, y_pred_ensemble)\n",
        "print(f\"Ensemble Accuracy (Voting): {accuracy_ensemble * 100:.2f}%\")\n",
        "\n",
        "# Calculate ROC AUC for the ensemble\n",
        "roc_auc_ensemble = roc_auc_score(y_test, y_pred_ensemble)\n",
        "print(f\"Ensemble ROC AUC: {roc_auc_ensemble:.2f}\")\n",
        "\n",
        "# Generate the ROC curve plot for the ensemble\n",
        "fpr_ensemble, tpr_ensemble, thresholds_ensemble = roc_curve(y_test, y_pred_ensemble)\n",
        "plt.plot(fpr_ensemble, tpr_ensemble, label=f'Ensemble (area = {roc_auc_ensemble:.2f})')\n",
        "plt.plot([0, 1], [0, 1], 'k--')\n",
        "plt.xlabel('False Positive Rate')\n",
        "plt.ylabel('True Positive Rate')\n",
        "plt.title('Receiver Operating Characteristic (ROC) Curve')\n",
        "plt.legend(loc=\"lower right\")\n",
        "plt.show()\n",
        "\n",
        "print(classification_report(y_test, y_pred_ensemble))"
      ],
      "metadata": {
        "colab": {
          "base_uri": "https://localhost:8080/",
          "height": 663
        },
        "id": "GeY44TsSz_F1",
        "outputId": "f50bcd19-6fed-487a-cf3d-1f62935d5472"
      },
      "id": "GeY44TsSz_F1",
      "execution_count": 80,
      "outputs": [
        {
          "output_type": "stream",
          "name": "stdout",
          "text": [
            "Ensemble Accuracy (Voting): 96.94%\n",
            "Ensemble ROC AUC: 0.97\n"
          ]
        },
        {
          "output_type": "display_data",
          "data": {
            "text/plain": [
              "<Figure size 640x480 with 1 Axes>"
            ],
            "image/png": "[encoded data removed]"
          },
          "metadata": {}
        },
        {
          "output_type": "stream",
          "name": "stdout",
          "text": [
            "              precision    recall  f1-score   support\n",
            "\n",
            "           0       0.95      0.99      0.97      2392\n",
            "           1       0.99      0.95      0.97      2608\n",
            "\n",
            "    accuracy                           0.97      5000\n",
            "   macro avg       0.97      0.97      0.97      5000\n",
            "weighted avg       0.97      0.97      0.97      5000\n",
            "\n"
          ]
        }
      ]
    },
    {
      "cell_type": "code",
      "source": [
        "# # save naive bayes, logistic trainded model\n",
        "\n",
        "\n",
        "# import pickle\n",
        "\n",
        "# pickle.dump(model_with_kf, open('naive_bayes_model.pkl', 'wb'))\n",
        "# pickle.dump(logistic_model, open('logistic_model.pkl', 'wb'))\n",
        "\n",
        "# # dump count vectorizer and tfidf\n",
        "\n",
        "# pickle.dump(count_vectorizer, open('count_vectorizer.pkl', 'wb'))\n",
        "# pickle.dump(tfidf_vectorizer, open('tfidf_vectorizer.pkl', 'wb'))\n"
      ],
      "metadata": {
        "id": "HXXYsAVzVep8"
      },
      "id": "HXXYsAVzVep8",
      "execution_count": 67,
      "outputs": []
    },
    {
      "cell_type": "code",
      "source": [
        "# # Load the logistic model\n",
        "# with open('logistic_model.pkl', 'rb') as model_file:\n",
        "#     loaded_model = pickle.load(model_file)\n",
        "\n",
        "# # Load the CountVectorizer\n",
        "# with open('count_vectorizer.pkl', 'rb') as vectorizer_file:\n",
        "#     loaded_vectorizer = pickle.load(vectorizer_file)\n",
        "\n"
      ],
      "metadata": {
        "id": "-pHobHU-XKxa"
      },
      "id": "-pHobHU-XKxa",
      "execution_count": 68,
      "outputs": []
    },
    {
      "cell_type": "code",
      "source": [
        "# Example new text data\n",
        "new_text_data = [\"This is a sample news article to test the model.\", \"Another example text to check predictions.\"]\n",
        "\n",
        "# Transform the new text data using the loaded CountVectorizer\n",
        "new_data_features = loaded_vectorizer.transform(new_text_data)\n"
      ],
      "metadata": {
        "id": "_S3px4mnZX-R"
      },
      "id": "_S3px4mnZX-R",
      "execution_count": 69,
      "outputs": []
    },
    {
      "cell_type": "code",
      "source": [
        "# Predict the class for the new text data\n",
        "predictions = loaded_model.predict(new_data_features)\n",
        "print(predictions)  # Output predicted labels for each piece of text\n"
      ],
      "metadata": {
        "colab": {
          "base_uri": "https://localhost:8080/"
        },
        "id": "w1CS8ZONZyxO",
        "outputId": "66a7f489-5d6f-4de7-ab9e-abe0182e66bb"
      },
      "id": "w1CS8ZONZyxO",
      "execution_count": 75,
      "outputs": [
        {
          "output_type": "stream",
          "name": "stdout",
          "text": [
            "[1 1]\n"
          ]
        }
      ]
    },
    {
      "cell_type": "markdown",
      "source": [
        "### **Checking if news (fake and true) are linearly separable using PCA**"
      ],
      "metadata": {
        "id": "rLRJUD1lvVSK"
      },
      "id": "rLRJUD1lvVSK"
    },
    {
      "cell_type": "code",
      "source": [
        "# applying pca to count vectorizer\n",
        "\n",
        "from sklearn.decomposition import PCA\n",
        "\n",
        "# Initialize PCA with the 2 components\n",
        "pca = PCA(n_components=2)\n",
        "\n",
        "# Fit PCA on count matrix\n",
        "pca.fit(count_matrix)\n",
        "\n",
        "# Transform the data using PCA\n",
        "pca_data = pca.transform(tfidf_matrix)\n",
        "\n",
        "# plotting pca principle components with y_labels (target)\n",
        "\n",
        "plt.scatter(pca_data[:, 0], pca_data[:, 1], c=target, cmap='viridis')\n",
        "\n",
        "plt.xlabel('Principal Component 1')\n",
        "plt.ylabel('Principal Component 2')\n",
        "plt.title('PCA Visualization')\n",
        "plt.colorbar(label='Target')\n",
        "plt.show()"
      ],
      "metadata": {
        "colab": {
          "base_uri": "https://localhost:8080/",
          "height": 472
        },
        "id": "UvdCgka0pnCL",
        "outputId": "897273f4-7267-4c22-9cc9-ce56e83aadd0"
      },
      "id": "UvdCgka0pnCL",
      "execution_count": 81,
      "outputs": [
        {
          "output_type": "display_data",
          "data": {
            "text/plain": [
              "<Figure size 640x480 with 2 Axes>"
            ],
            "image/png": "[encoded data removed]"
          },
          "metadata": {}
        }
      ]
    },
    {
      "cell_type": "code",
      "source": [],
      "metadata": {
        "id": "vK6HNpPcqOpn"
      },
      "id": "vK6HNpPcqOpn",
      "execution_count": null,
      "outputs": []
    }
  ],
  "metadata": {
    "colab": {
      "provenance": []
    },
    "kernelspec": {
      "display_name": "Python 3 (ipykernel)",
      "language": "python",
      "name": "python3"
    },
    "language_info": {
      "codemirror_mode": {
        "name": "ipython",
        "version": 3
      },
      "file_extension": ".py",
      "mimetype": "text/x-python",
      "name": "python",
      "nbconvert_exporter": "python",
      "pygments_lexer": "ipython3",
      "version": "3.12.4"
    }
  },
  "nbformat": 4,
  "nbformat_minor": 5
}